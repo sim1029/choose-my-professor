{
  "cells": [
    {
      "cell_type": "code",
      "execution_count": null,
      "metadata": {
        "id": "lMVrvfJYKOZA"
      },
      "outputs": [],
      "source": [
        "%%capture\n",
        "!pip install bertopic"
      ]
    },
    {
      "cell_type": "code",
      "execution_count": null,
      "metadata": {
        "id": "0YE35fYtR91n"
      },
      "outputs": [],
      "source": [
        "%%capture \n",
        "!pip install scikit-multilearn\n",
        "!pip install neattext\n",
        "#!pip install nltk\n",
        "#!pip install matplotlib\n"
      ]
    },
    {
      "cell_type": "code",
      "execution_count": null,
      "metadata": {
        "id": "pPa01DXjVUgW"
      },
      "outputs": [],
      "source": [
        "from sklearn.naive_bayes import GaussianNB,MultinomialNB\n",
        "from sklearn.metrics import accuracy_score,hamming_loss\n",
        "from sklearn.model_selection import train_test_split\n",
        "from sklearn.feature_extraction.text import TfidfVectorizer"
      ]
    },
    {
      "cell_type": "code",
      "execution_count": null,
      "metadata": {
        "id": "qfm-sL0_KUl8"
      },
      "outputs": [],
      "source": [
        "import pandas as pd\n",
        "import nltk\n",
        "import matplotlib.pyplot as plt\n",
        "import seaborn as sns"
      ]
    },
    {
      "cell_type": "code",
      "execution_count": null,
      "metadata": {
        "id": "IJRN_lwWVmeh"
      },
      "outputs": [],
      "source": [
        "import neattext as nt\n",
        "import neattext.functions as nfx\n",
        "from neattext.functions import clean_text "
      ]
    },
    {
      "cell_type": "code",
      "execution_count": null,
      "metadata": {
        "colab": {
          "base_uri": "https://localhost:8080/",
          "height": 39
        },
        "id": "cwgaoB7OOoIJ",
        "outputId": "65822da3-4426-4e5e-d7c9-55914e21fe29"
      },
      "outputs": [
        {
          "data": {
            "text/html": [
              "\n",
              "     <input type=\"file\" id=\"files-c15b6452-c4ba-41b3-88ec-273d464e0c74\" name=\"files[]\" multiple disabled\n",
              "        style=\"border:none\" />\n",
              "     <output id=\"result-c15b6452-c4ba-41b3-88ec-273d464e0c74\">\n",
              "      Upload widget is only available when the cell has been executed in the\n",
              "      current browser session. Please rerun this cell to enable.\n",
              "      </output>\n",
              "      <script>// Copyright 2017 Google LLC\n",
              "//\n",
              "// Licensed under the Apache License, Version 2.0 (the \"License\");\n",
              "// you may not use this file except in compliance with the License.\n",
              "// You may obtain a copy of the License at\n",
              "//\n",
              "//      http://www.apache.org/licenses/LICENSE-2.0\n",
              "//\n",
              "// Unless required by applicable law or agreed to in writing, software\n",
              "// distributed under the License is distributed on an \"AS IS\" BASIS,\n",
              "// WITHOUT WARRANTIES OR CONDITIONS OF ANY KIND, either express or implied.\n",
              "// See the License for the specific language governing permissions and\n",
              "// limitations under the License.\n",
              "\n",
              "/**\n",
              " * @fileoverview Helpers for google.colab Python module.\n",
              " */\n",
              "(function(scope) {\n",
              "function span(text, styleAttributes = {}) {\n",
              "  const element = document.createElement('span');\n",
              "  element.textContent = text;\n",
              "  for (const key of Object.keys(styleAttributes)) {\n",
              "    element.style[key] = styleAttributes[key];\n",
              "  }\n",
              "  return element;\n",
              "}\n",
              "\n",
              "// Max number of bytes which will be uploaded at a time.\n",
              "const MAX_PAYLOAD_SIZE = 100 * 1024;\n",
              "\n",
              "function _uploadFiles(inputId, outputId) {\n",
              "  const steps = uploadFilesStep(inputId, outputId);\n",
              "  const outputElement = document.getElementById(outputId);\n",
              "  // Cache steps on the outputElement to make it available for the next call\n",
              "  // to uploadFilesContinue from Python.\n",
              "  outputElement.steps = steps;\n",
              "\n",
              "  return _uploadFilesContinue(outputId);\n",
              "}\n",
              "\n",
              "// This is roughly an async generator (not supported in the browser yet),\n",
              "// where there are multiple asynchronous steps and the Python side is going\n",
              "// to poll for completion of each step.\n",
              "// This uses a Promise to block the python side on completion of each step,\n",
              "// then passes the result of the previous step as the input to the next step.\n",
              "function _uploadFilesContinue(outputId) {\n",
              "  const outputElement = document.getElementById(outputId);\n",
              "  const steps = outputElement.steps;\n",
              "\n",
              "  const next = steps.next(outputElement.lastPromiseValue);\n",
              "  return Promise.resolve(next.value.promise).then((value) => {\n",
              "    // Cache the last promise value to make it available to the next\n",
              "    // step of the generator.\n",
              "    outputElement.lastPromiseValue = value;\n",
              "    return next.value.response;\n",
              "  });\n",
              "}\n",
              "\n",
              "/**\n",
              " * Generator function which is called between each async step of the upload\n",
              " * process.\n",
              " * @param {string} inputId Element ID of the input file picker element.\n",
              " * @param {string} outputId Element ID of the output display.\n",
              " * @return {!Iterable<!Object>} Iterable of next steps.\n",
              " */\n",
              "function* uploadFilesStep(inputId, outputId) {\n",
              "  const inputElement = document.getElementById(inputId);\n",
              "  inputElement.disabled = false;\n",
              "\n",
              "  const outputElement = document.getElementById(outputId);\n",
              "  outputElement.innerHTML = '';\n",
              "\n",
              "  const pickedPromise = new Promise((resolve) => {\n",
              "    inputElement.addEventListener('change', (e) => {\n",
              "      resolve(e.target.files);\n",
              "    });\n",
              "  });\n",
              "\n",
              "  const cancel = document.createElement('button');\n",
              "  inputElement.parentElement.appendChild(cancel);\n",
              "  cancel.textContent = 'Cancel upload';\n",
              "  const cancelPromise = new Promise((resolve) => {\n",
              "    cancel.onclick = () => {\n",
              "      resolve(null);\n",
              "    };\n",
              "  });\n",
              "\n",
              "  // Wait for the user to pick the files.\n",
              "  const files = yield {\n",
              "    promise: Promise.race([pickedPromise, cancelPromise]),\n",
              "    response: {\n",
              "      action: 'starting',\n",
              "    }\n",
              "  };\n",
              "\n",
              "  cancel.remove();\n",
              "\n",
              "  // Disable the input element since further picks are not allowed.\n",
              "  inputElement.disabled = true;\n",
              "\n",
              "  if (!files) {\n",
              "    return {\n",
              "      response: {\n",
              "        action: 'complete',\n",
              "      }\n",
              "    };\n",
              "  }\n",
              "\n",
              "  for (const file of files) {\n",
              "    const li = document.createElement('li');\n",
              "    li.append(span(file.name, {fontWeight: 'bold'}));\n",
              "    li.append(span(\n",
              "        `(${file.type || 'n/a'}) - ${file.size} bytes, ` +\n",
              "        `last modified: ${\n",
              "            file.lastModifiedDate ? file.lastModifiedDate.toLocaleDateString() :\n",
              "                                    'n/a'} - `));\n",
              "    const percent = span('0% done');\n",
              "    li.appendChild(percent);\n",
              "\n",
              "    outputElement.appendChild(li);\n",
              "\n",
              "    const fileDataPromise = new Promise((resolve) => {\n",
              "      const reader = new FileReader();\n",
              "      reader.onload = (e) => {\n",
              "        resolve(e.target.result);\n",
              "      };\n",
              "      reader.readAsArrayBuffer(file);\n",
              "    });\n",
              "    // Wait for the data to be ready.\n",
              "    let fileData = yield {\n",
              "      promise: fileDataPromise,\n",
              "      response: {\n",
              "        action: 'continue',\n",
              "      }\n",
              "    };\n",
              "\n",
              "    // Use a chunked sending to avoid message size limits. See b/62115660.\n",
              "    let position = 0;\n",
              "    do {\n",
              "      const length = Math.min(fileData.byteLength - position, MAX_PAYLOAD_SIZE);\n",
              "      const chunk = new Uint8Array(fileData, position, length);\n",
              "      position += length;\n",
              "\n",
              "      const base64 = btoa(String.fromCharCode.apply(null, chunk));\n",
              "      yield {\n",
              "        response: {\n",
              "          action: 'append',\n",
              "          file: file.name,\n",
              "          data: base64,\n",
              "        },\n",
              "      };\n",
              "\n",
              "      let percentDone = fileData.byteLength === 0 ?\n",
              "          100 :\n",
              "          Math.round((position / fileData.byteLength) * 100);\n",
              "      percent.textContent = `${percentDone}% done`;\n",
              "\n",
              "    } while (position < fileData.byteLength);\n",
              "  }\n",
              "\n",
              "  // All done.\n",
              "  yield {\n",
              "    response: {\n",
              "      action: 'complete',\n",
              "    }\n",
              "  };\n",
              "}\n",
              "\n",
              "scope.google = scope.google || {};\n",
              "scope.google.colab = scope.google.colab || {};\n",
              "scope.google.colab._files = {\n",
              "  _uploadFiles,\n",
              "  _uploadFilesContinue,\n",
              "};\n",
              "})(self);\n",
              "</script> "
            ],
            "text/plain": [
              "<IPython.core.display.HTML object>"
            ]
          },
          "metadata": {},
          "output_type": "display_data"
        }
      ],
      "source": [
        "from google.colab import files\n",
        "uploaded = files.upload()\n",
        "# not using this but this is an alternative way of importing data"
      ]
    },
    {
      "cell_type": "code",
      "execution_count": null,
      "metadata": {
        "colab": {
          "base_uri": "https://localhost:8080/",
          "height": 487
        },
        "id": "uml_JNVrXTB_",
        "outputId": "fcf27521-c0f6-4306-9a45-674f6e66204e"
      },
      "outputs": [
        {
          "output_type": "execute_result",
          "data": {
            "text/plain": [
              "                                     id  rating              name  \\\n",
              "0  1b381a70-ba04-11ed-b771-a4c3f0856cc6     2.3   Brenda Berrian    \n",
              "1  1bfaf708-ba04-11ed-b4e7-a4c3f0856cc6     4.8  Aaron Bernstine    \n",
              "2  1d0251de-ba04-11ed-8159-a4c3f0856cc6     4.3      Aarti Madan    \n",
              "3  1d31c636-ba04-11ed-a3e8-a4c3f0856cc6     1.6      Abel Franco    \n",
              "4  1d672e1a-ba04-11ed-9f19-a4c3f0856cc6     1.6     Adam Hobaugh    \n",
              "\n",
              "  would_take_again  level_of_difficulty                          department  \\\n",
              "0              NaN                  3.3                  English Department   \n",
              "1             100%                  1.8  Business Administration Department   \n",
              "2              NaN                  3.1                  Spanish Department   \n",
              "3               0%                  4.6               Philosophy Department   \n",
              "4              25%                  4.4         Computer Science Department   \n",
              "\n",
              "                                                 url                 tag0  \\\n",
              "0  https://www.ratemyprofessors.com/professor?tid...                  NaN   \n",
              "1  https://www.ratemyprofessors.com/professor?tid...  Gives good feedback   \n",
              "2  https://www.ratemyprofessors.com/professor?tid...                  NaN   \n",
              "3  https://www.ratemyprofessors.com/professor?tid...         Tough grader   \n",
              "4  https://www.ratemyprofessors.com/professor?tid...         Tough grader   \n",
              "\n",
              "                   tag1               tag2            tag3    tag4  \n",
              "0                   NaN                NaN             NaN     NaN  \n",
              "1             Respected      Inspirational       Hilarious  Caring  \n",
              "2                   NaN                NaN             NaN     NaN  \n",
              "3      Lots of homework  Get ready to read  So many papers     NaN  \n",
              "4  Graded by few things   Lots of homework          Caring     NaN  "
            ],
            "text/html": [
              "<div>\n",
              "<style scoped>\n",
              "    .dataframe tbody tr th:only-of-type {\n",
              "        vertical-align: middle;\n",
              "    }\n",
              "\n",
              "    .dataframe tbody tr th {\n",
              "        vertical-align: top;\n",
              "    }\n",
              "\n",
              "    .dataframe thead th {\n",
              "        text-align: right;\n",
              "    }\n",
              "</style>\n",
              "<table border=\"1\" class=\"dataframe\">\n",
              "  <thead>\n",
              "    <tr style=\"text-align: right;\">\n",
              "      <th></th>\n",
              "      <th>id</th>\n",
              "      <th>rating</th>\n",
              "      <th>name</th>\n",
              "      <th>would_take_again</th>\n",
              "      <th>level_of_difficulty</th>\n",
              "      <th>department</th>\n",
              "      <th>url</th>\n",
              "      <th>tag0</th>\n",
              "      <th>tag1</th>\n",
              "      <th>tag2</th>\n",
              "      <th>tag3</th>\n",
              "      <th>tag4</th>\n",
              "    </tr>\n",
              "  </thead>\n",
              "  <tbody>\n",
              "    <tr>\n",
              "      <th>0</th>\n",
              "      <td>1b381a70-ba04-11ed-b771-a4c3f0856cc6</td>\n",
              "      <td>2.3</td>\n",
              "      <td>Brenda Berrian</td>\n",
              "      <td>NaN</td>\n",
              "      <td>3.3</td>\n",
              "      <td>English Department</td>\n",
              "      <td>https://www.ratemyprofessors.com/professor?tid...</td>\n",
              "      <td>NaN</td>\n",
              "      <td>NaN</td>\n",
              "      <td>NaN</td>\n",
              "      <td>NaN</td>\n",
              "      <td>NaN</td>\n",
              "    </tr>\n",
              "    <tr>\n",
              "      <th>1</th>\n",
              "      <td>1bfaf708-ba04-11ed-b4e7-a4c3f0856cc6</td>\n",
              "      <td>4.8</td>\n",
              "      <td>Aaron Bernstine</td>\n",
              "      <td>100%</td>\n",
              "      <td>1.8</td>\n",
              "      <td>Business Administration Department</td>\n",
              "      <td>https://www.ratemyprofessors.com/professor?tid...</td>\n",
              "      <td>Gives good feedback</td>\n",
              "      <td>Respected</td>\n",
              "      <td>Inspirational</td>\n",
              "      <td>Hilarious</td>\n",
              "      <td>Caring</td>\n",
              "    </tr>\n",
              "    <tr>\n",
              "      <th>2</th>\n",
              "      <td>1d0251de-ba04-11ed-8159-a4c3f0856cc6</td>\n",
              "      <td>4.3</td>\n",
              "      <td>Aarti Madan</td>\n",
              "      <td>NaN</td>\n",
              "      <td>3.1</td>\n",
              "      <td>Spanish Department</td>\n",
              "      <td>https://www.ratemyprofessors.com/professor?tid...</td>\n",
              "      <td>NaN</td>\n",
              "      <td>NaN</td>\n",
              "      <td>NaN</td>\n",
              "      <td>NaN</td>\n",
              "      <td>NaN</td>\n",
              "    </tr>\n",
              "    <tr>\n",
              "      <th>3</th>\n",
              "      <td>1d31c636-ba04-11ed-a3e8-a4c3f0856cc6</td>\n",
              "      <td>1.6</td>\n",
              "      <td>Abel Franco</td>\n",
              "      <td>0%</td>\n",
              "      <td>4.6</td>\n",
              "      <td>Philosophy Department</td>\n",
              "      <td>https://www.ratemyprofessors.com/professor?tid...</td>\n",
              "      <td>Tough grader</td>\n",
              "      <td>Lots of homework</td>\n",
              "      <td>Get ready to read</td>\n",
              "      <td>So many papers</td>\n",
              "      <td>NaN</td>\n",
              "    </tr>\n",
              "    <tr>\n",
              "      <th>4</th>\n",
              "      <td>1d672e1a-ba04-11ed-9f19-a4c3f0856cc6</td>\n",
              "      <td>1.6</td>\n",
              "      <td>Adam Hobaugh</td>\n",
              "      <td>25%</td>\n",
              "      <td>4.4</td>\n",
              "      <td>Computer Science Department</td>\n",
              "      <td>https://www.ratemyprofessors.com/professor?tid...</td>\n",
              "      <td>Tough grader</td>\n",
              "      <td>Graded by few things</td>\n",
              "      <td>Lots of homework</td>\n",
              "      <td>Caring</td>\n",
              "      <td>NaN</td>\n",
              "    </tr>\n",
              "  </tbody>\n",
              "</table>\n",
              "</div>"
            ]
          },
          "metadata": {},
          "execution_count": 8
        }
      ],
      "source": [
        "import csv\n",
        "url = 'https://raw.githubusercontent.com/AlexWang18/data/main/professors.csv'\n",
        "profs = pd.read_csv(url, skip_blank_lines=True, encoding=\"ISO-8859-1\")\n",
        "profs.head()"
      ]
    },
    {
      "cell_type": "code",
      "execution_count": null,
      "metadata": {
        "id": "B2OK9Y_LScFw"
      },
      "outputs": [],
      "source": []
    },
    {
      "cell_type": "code",
      "execution_count": null,
      "metadata": {
        "colab": {
          "base_uri": "https://localhost:8080/",
          "height": 655
        },
        "id": "QDdHeQOFXfSA",
        "outputId": "8f79f995-798c-42e2-e6c7-f61cf0c2b26c"
      },
      "outputs": [
        {
          "output_type": "execute_result",
          "data": {
            "text/plain": [
              "                                     id                               prof_id  \\\n",
              "0  1b3d723a-ba04-11ed-8681-a4c3f0856cc6  1b381a70-ba04-11ed-b771-a4c3f0856cc6   \n",
              "1  1b3e5c10-ba04-11ed-bf24-a4c3f0856cc6  1b381a70-ba04-11ed-b771-a4c3f0856cc6   \n",
              "2  1b3f1f68-ba04-11ed-805a-a4c3f0856cc6  1b381a70-ba04-11ed-b771-a4c3f0856cc6   \n",
              "3  1b3f9482-ba04-11ed-930b-a4c3f0856cc6  1b381a70-ba04-11ed-b771-a4c3f0856cc6   \n",
              "4  1b4030de-ba04-11ed-a97a-a4c3f0856cc6  1b381a70-ba04-11ed-b771-a4c3f0856cc6   \n",
              "\n",
              "   emotion                                            comment       timestamp  \\\n",
              "0    awful  Worst professor I have ever had. Does not list...   Apr 6th, 2014   \n",
              "1    awful  Professor Berrian refuses to hear anyone's opi...   Mar 4th, 2014   \n",
              "2  awesome  At first I was skeptical about her, but she is...  Dec 20th, 2012   \n",
              "3  average  Class content was interesting. She is my least...   Oct 2nd, 2012   \n",
              "4  average  I was very hesitant to take this class after r...  Nov 15th, 2011   \n",
              "\n",
              "        course  thumbs_up  thumbs_down  quality  difficulty  ...  \\\n",
              "0      AFR0242        0.0          0.0      1.0         5.0  ...   \n",
              "1   AFRCNA1655        1.0          0.0      1.5         3.0  ...   \n",
              "2    AFRCN1644        0.0          0.0      4.5         3.0  ...   \n",
              "3      WSP0242        0.0          0.0      3.0         3.0  ...   \n",
              "4    AFRCN0242        0.0          0.0      3.5         2.0  ...   \n",
              "\n",
              "            meta_item1    meta_item2 meta_item3 meta_item4 meta_item5 tag0  \\\n",
              "0             Grade: A  Textbook: No        NaN        NaN        NaN  NaN   \n",
              "1  Grade: Not_Sure_Yet  Textbook: No        NaN        NaN        NaN  NaN   \n",
              "2                  NaN           NaN        NaN        NaN        NaN  NaN   \n",
              "3                  NaN           NaN        NaN        NaN        NaN  NaN   \n",
              "4                  NaN           NaN        NaN        NaN        NaN  NaN   \n",
              "\n",
              "  tag1 tag2 tag3  tag4  \n",
              "0  NaN  NaN  NaN   NaN  \n",
              "1  NaN  NaN  NaN   NaN  \n",
              "2  NaN  NaN  NaN   NaN  \n",
              "3  NaN  NaN  NaN   NaN  \n",
              "4  NaN  NaN  NaN   NaN  \n",
              "\n",
              "[5 rows x 21 columns]"
            ],
            "text/html": [
              "<div>\n",
              "<style scoped>\n",
              "    .dataframe tbody tr th:only-of-type {\n",
              "        vertical-align: middle;\n",
              "    }\n",
              "\n",
              "    .dataframe tbody tr th {\n",
              "        vertical-align: top;\n",
              "    }\n",
              "\n",
              "    .dataframe thead th {\n",
              "        text-align: right;\n",
              "    }\n",
              "</style>\n",
              "<table border=\"1\" class=\"dataframe\">\n",
              "  <thead>\n",
              "    <tr style=\"text-align: right;\">\n",
              "      <th></th>\n",
              "      <th>id</th>\n",
              "      <th>prof_id</th>\n",
              "      <th>emotion</th>\n",
              "      <th>comment</th>\n",
              "      <th>timestamp</th>\n",
              "      <th>course</th>\n",
              "      <th>thumbs_up</th>\n",
              "      <th>thumbs_down</th>\n",
              "      <th>quality</th>\n",
              "      <th>difficulty</th>\n",
              "      <th>...</th>\n",
              "      <th>meta_item1</th>\n",
              "      <th>meta_item2</th>\n",
              "      <th>meta_item3</th>\n",
              "      <th>meta_item4</th>\n",
              "      <th>meta_item5</th>\n",
              "      <th>tag0</th>\n",
              "      <th>tag1</th>\n",
              "      <th>tag2</th>\n",
              "      <th>tag3</th>\n",
              "      <th>tag4</th>\n",
              "    </tr>\n",
              "  </thead>\n",
              "  <tbody>\n",
              "    <tr>\n",
              "      <th>0</th>\n",
              "      <td>1b3d723a-ba04-11ed-8681-a4c3f0856cc6</td>\n",
              "      <td>1b381a70-ba04-11ed-b771-a4c3f0856cc6</td>\n",
              "      <td>awful</td>\n",
              "      <td>Worst professor I have ever had. Does not list...</td>\n",
              "      <td>Apr 6th, 2014</td>\n",
              "      <td>AFR0242</td>\n",
              "      <td>0.0</td>\n",
              "      <td>0.0</td>\n",
              "      <td>1.0</td>\n",
              "      <td>5.0</td>\n",
              "      <td>...</td>\n",
              "      <td>Grade: A</td>\n",
              "      <td>Textbook: No</td>\n",
              "      <td>NaN</td>\n",
              "      <td>NaN</td>\n",
              "      <td>NaN</td>\n",
              "      <td>NaN</td>\n",
              "      <td>NaN</td>\n",
              "      <td>NaN</td>\n",
              "      <td>NaN</td>\n",
              "      <td>NaN</td>\n",
              "    </tr>\n",
              "    <tr>\n",
              "      <th>1</th>\n",
              "      <td>1b3e5c10-ba04-11ed-bf24-a4c3f0856cc6</td>\n",
              "      <td>1b381a70-ba04-11ed-b771-a4c3f0856cc6</td>\n",
              "      <td>awful</td>\n",
              "      <td>Professor Berrian refuses to hear anyone's opi...</td>\n",
              "      <td>Mar 4th, 2014</td>\n",
              "      <td>AFRCNA1655</td>\n",
              "      <td>1.0</td>\n",
              "      <td>0.0</td>\n",
              "      <td>1.5</td>\n",
              "      <td>3.0</td>\n",
              "      <td>...</td>\n",
              "      <td>Grade: Not_Sure_Yet</td>\n",
              "      <td>Textbook: No</td>\n",
              "      <td>NaN</td>\n",
              "      <td>NaN</td>\n",
              "      <td>NaN</td>\n",
              "      <td>NaN</td>\n",
              "      <td>NaN</td>\n",
              "      <td>NaN</td>\n",
              "      <td>NaN</td>\n",
              "      <td>NaN</td>\n",
              "    </tr>\n",
              "    <tr>\n",
              "      <th>2</th>\n",
              "      <td>1b3f1f68-ba04-11ed-805a-a4c3f0856cc6</td>\n",
              "      <td>1b381a70-ba04-11ed-b771-a4c3f0856cc6</td>\n",
              "      <td>awesome</td>\n",
              "      <td>At first I was skeptical about her, but she is...</td>\n",
              "      <td>Dec 20th, 2012</td>\n",
              "      <td>AFRCN1644</td>\n",
              "      <td>0.0</td>\n",
              "      <td>0.0</td>\n",
              "      <td>4.5</td>\n",
              "      <td>3.0</td>\n",
              "      <td>...</td>\n",
              "      <td>NaN</td>\n",
              "      <td>NaN</td>\n",
              "      <td>NaN</td>\n",
              "      <td>NaN</td>\n",
              "      <td>NaN</td>\n",
              "      <td>NaN</td>\n",
              "      <td>NaN</td>\n",
              "      <td>NaN</td>\n",
              "      <td>NaN</td>\n",
              "      <td>NaN</td>\n",
              "    </tr>\n",
              "    <tr>\n",
              "      <th>3</th>\n",
              "      <td>1b3f9482-ba04-11ed-930b-a4c3f0856cc6</td>\n",
              "      <td>1b381a70-ba04-11ed-b771-a4c3f0856cc6</td>\n",
              "      <td>average</td>\n",
              "      <td>Class content was interesting. She is my least...</td>\n",
              "      <td>Oct 2nd, 2012</td>\n",
              "      <td>WSP0242</td>\n",
              "      <td>0.0</td>\n",
              "      <td>0.0</td>\n",
              "      <td>3.0</td>\n",
              "      <td>3.0</td>\n",
              "      <td>...</td>\n",
              "      <td>NaN</td>\n",
              "      <td>NaN</td>\n",
              "      <td>NaN</td>\n",
              "      <td>NaN</td>\n",
              "      <td>NaN</td>\n",
              "      <td>NaN</td>\n",
              "      <td>NaN</td>\n",
              "      <td>NaN</td>\n",
              "      <td>NaN</td>\n",
              "      <td>NaN</td>\n",
              "    </tr>\n",
              "    <tr>\n",
              "      <th>4</th>\n",
              "      <td>1b4030de-ba04-11ed-a97a-a4c3f0856cc6</td>\n",
              "      <td>1b381a70-ba04-11ed-b771-a4c3f0856cc6</td>\n",
              "      <td>average</td>\n",
              "      <td>I was very hesitant to take this class after r...</td>\n",
              "      <td>Nov 15th, 2011</td>\n",
              "      <td>AFRCN0242</td>\n",
              "      <td>0.0</td>\n",
              "      <td>0.0</td>\n",
              "      <td>3.5</td>\n",
              "      <td>2.0</td>\n",
              "      <td>...</td>\n",
              "      <td>NaN</td>\n",
              "      <td>NaN</td>\n",
              "      <td>NaN</td>\n",
              "      <td>NaN</td>\n",
              "      <td>NaN</td>\n",
              "      <td>NaN</td>\n",
              "      <td>NaN</td>\n",
              "      <td>NaN</td>\n",
              "      <td>NaN</td>\n",
              "      <td>NaN</td>\n",
              "    </tr>\n",
              "  </tbody>\n",
              "</table>\n",
              "<p>5 rows × 21 columns</p>\n",
              "</div>"
            ]
          },
          "metadata": {},
          "execution_count": 9
        }
      ],
      "source": [
        "url = 'https://raw.githubusercontent.com/AlexWang18/data/main/reviews.csv'\n",
        "reviews = pd.read_csv(url, skip_blank_lines=True, encoding=\"ISO_8859-1\")\n",
        "reviews.head(5)"
      ]
    },
    {
      "cell_type": "code",
      "execution_count": null,
      "metadata": {
        "colab": {
          "base_uri": "https://localhost:8080/",
          "height": 1000
        },
        "id": "EvLyAzAyL4on",
        "outputId": "f53472ea-84b0-45c8-c892-cc313d8a660e"
      },
      "outputs": [
        {
          "output_type": "execute_result",
          "data": {
            "text/plain": [
              "                                         id  \\\n",
              "19     1c1caf9a-ba04-11ed-ba8d-a4c3f0856cc6   \n",
              "20     1c1dc01e-ba04-11ed-9f47-a4c3f0856cc6   \n",
              "21     1c1ef842-ba04-11ed-908a-a4c3f0856cc6   \n",
              "22     1c1fe27a-ba04-11ed-9116-a4c3f0856cc6   \n",
              "23     1c2141fa-ba04-11ed-ad7f-a4c3f0856cc6   \n",
              "...                                     ...   \n",
              "29912  c1d70f68-ba05-11ed-be58-a4c3f0856cc6   \n",
              "29913  c1d846a2-ba05-11ed-9109-a4c3f0856cc6   \n",
              "29915  c212b928-ba05-11ed-8317-a4c3f0856cc6   \n",
              "29916  c213f176-ba05-11ed-b4da-a4c3f0856cc6   \n",
              "29917  c2159df6-ba05-11ed-9b43-a4c3f0856cc6   \n",
              "\n",
              "                                    prof_id  emotion  \\\n",
              "19     1bfaf708-ba04-11ed-b4e7-a4c3f0856cc6  awesome   \n",
              "20     1bfaf708-ba04-11ed-b4e7-a4c3f0856cc6  awesome   \n",
              "21     1bfaf708-ba04-11ed-b4e7-a4c3f0856cc6  awesome   \n",
              "22     1bfaf708-ba04-11ed-b4e7-a4c3f0856cc6  awesome   \n",
              "23     1bfaf708-ba04-11ed-b4e7-a4c3f0856cc6  awesome   \n",
              "...                                     ...      ...   \n",
              "29912  c1cd245a-ba05-11ed-a2a7-a4c3f0856cc6  awesome   \n",
              "29913  c1cd245a-ba05-11ed-a2a7-a4c3f0856cc6  awesome   \n",
              "29915  c20d1386-ba05-11ed-a9eb-a4c3f0856cc6  awesome   \n",
              "29916  c20d1386-ba05-11ed-a9eb-a4c3f0856cc6  awesome   \n",
              "29917  c20d1386-ba05-11ed-a9eb-a4c3f0856cc6  awesome   \n",
              "\n",
              "                                                 comment       timestamp  \\\n",
              "19     Aaron is a great professor! Show up to class, ...  Oct 10th, 2019   \n",
              "20     This class teaches you about real world busine...  Apr 11th, 2019   \n",
              "21     Very applicable to life. Definitely worth taking!  Apr 11th, 2019   \n",
              "22     The best class anyone at Pitt can take, so man...  Apr 11th, 2019   \n",
              "23     Aaron is one of my favorite professors i have ...  Apr 11th, 2019   \n",
              "...                                                  ...             ...   \n",
              "29912  Yury is a young, soft spoken professor with a ...  Mar 16th, 2017   \n",
              "29913  The class is very difficult, and Yury does an ...  Nov 23rd, 2016   \n",
              "29915  Dr. Destin was fantastic! He was very clear ab...   Oct 7th, 2017   \n",
              "29916  Such a nice guy. I took his class at the Unive...   Nov 7th, 2016   \n",
              "29917  Dr. Destin's Intro to Sociology class was much...  Aug 16th, 2016   \n",
              "\n",
              "            course  thumbs_up  thumbs_down  quality  difficulty  ...  \\\n",
              "19      BUSMKT1422        0.0          0.0      5.0         2.0  ...   \n",
              "20      BUSMKT1425        0.0          0.0      5.0         2.0  ...   \n",
              "21      BUSMKT1425        0.0          0.0      5.0         2.0  ...   \n",
              "22       BUSMK1425        0.0          0.0      5.0         3.0  ...   \n",
              "23      BUSMKT1425        0.0          1.0      5.0         2.0  ...   \n",
              "...            ...        ...          ...      ...         ...  ...   \n",
              "29912     MATH1310        0.0          1.0      4.0         3.0  ...   \n",
              "29913     MATH0230        2.0          0.0      4.0         5.0  ...   \n",
              "29915      SOC1001        0.0          0.0      5.0         2.0  ...   \n",
              "29916      SOC0150        0.0          0.0      5.0         3.0  ...   \n",
              "29917      SOC1001        0.0          0.0      5.0         4.0  ...   \n",
              "\n",
              "                  meta_item2           meta_item3    meta_item4 meta_item5  \\\n",
              "19     Would Take Again: Yes  Grade: Not sure yet  Textbook: No        NaN   \n",
              "20     Would Take Again: Yes         Textbook: No           NaN        NaN   \n",
              "21              Textbook: No                  NaN           NaN        NaN   \n",
              "22     Would Take Again: Yes             Grade: A  Textbook: No        NaN   \n",
              "23     Would Take Again: Yes         Textbook: No           NaN        NaN   \n",
              "...                      ...                  ...           ...        ...   \n",
              "29912  Would Take Again: Yes        Textbook: Yes           NaN        NaN   \n",
              "29913               Grade: C        Textbook: Yes           NaN        NaN   \n",
              "29915               Grade: A        Textbook: Yes           NaN        NaN   \n",
              "29916  Would Take Again: Yes             Grade: A  Textbook: No        NaN   \n",
              "29917           Textbook: No                  NaN           NaN        NaN   \n",
              "\n",
              "                         tag0                         tag1  \\\n",
              "19      Participation matters                Inspirational   \n",
              "20                  Respected       Clear grading criteria   \n",
              "21      Participation matters         Graded by few things   \n",
              "22              Inspirational       Clear grading criteria   \n",
              "23                  Respected             Amazing lectures   \n",
              "...                       ...                          ...   \n",
              "29912  Clear grading criteria                          NaN   \n",
              "29913            Tough Grader  Skip class? You won't pass.   \n",
              "29915     Gives good feedback     ACCESSIBLE OUTSIDE CLASS   \n",
              "29916               Respected       Clear grading criteria   \n",
              "29917     Gives good feedback        Participation matters   \n",
              "\n",
              "                         tag2 tag3 tag4  \\\n",
              "19           Amazing lectures  NaN  NaN   \n",
              "20                  Hilarious  NaN  NaN   \n",
              "21                  Hilarious  NaN  NaN   \n",
              "22              Lecture heavy  NaN  NaN   \n",
              "23                     Caring  NaN  NaN   \n",
              "...                       ...  ...  ...   \n",
              "29912                     NaN  NaN  NaN   \n",
              "29913  Clear grading criteria  NaN  NaN   \n",
              "29915  Clear grading criteria  NaN  NaN   \n",
              "29916                  Caring  NaN  NaN   \n",
              "29917        Amazing lectures  NaN  NaN   \n",
              "\n",
              "                                                combined  \n",
              "19     [Participation matters, Inspirational, Amazing...  \n",
              "20        [Respected, Clear grading criteria, Hilarious]  \n",
              "21     [Participation matters, Graded by few things, ...  \n",
              "22     [Inspirational, Clear grading criteria, Lectur...  \n",
              "23                 [Respected, Amazing lectures, Caring]  \n",
              "...                                                  ...  \n",
              "29912                           [Clear grading criteria]  \n",
              "29913  [Tough Grader, Skip class? You won't pass., Cl...  \n",
              "29915  [Gives good feedback, ACCESSIBLE OUTSIDE CLASS...  \n",
              "29916        [Respected, Clear grading criteria, Caring]  \n",
              "29917  [Gives good feedback, Participation matters, A...  \n",
              "\n",
              "[8999 rows x 22 columns]"
            ],
            "text/html": [
              "<div>\n",
              "<style scoped>\n",
              "    .dataframe tbody tr th:only-of-type {\n",
              "        vertical-align: middle;\n",
              "    }\n",
              "\n",
              "    .dataframe tbody tr th {\n",
              "        vertical-align: top;\n",
              "    }\n",
              "\n",
              "    .dataframe thead th {\n",
              "        text-align: right;\n",
              "    }\n",
              "</style>\n",
              "<table border=\"1\" class=\"dataframe\">\n",
              "  <thead>\n",
              "    <tr style=\"text-align: right;\">\n",
              "      <th></th>\n",
              "      <th>id</th>\n",
              "      <th>prof_id</th>\n",
              "      <th>emotion</th>\n",
              "      <th>comment</th>\n",
              "      <th>timestamp</th>\n",
              "      <th>course</th>\n",
              "      <th>thumbs_up</th>\n",
              "      <th>thumbs_down</th>\n",
              "      <th>quality</th>\n",
              "      <th>difficulty</th>\n",
              "      <th>...</th>\n",
              "      <th>meta_item2</th>\n",
              "      <th>meta_item3</th>\n",
              "      <th>meta_item4</th>\n",
              "      <th>meta_item5</th>\n",
              "      <th>tag0</th>\n",
              "      <th>tag1</th>\n",
              "      <th>tag2</th>\n",
              "      <th>tag3</th>\n",
              "      <th>tag4</th>\n",
              "      <th>combined</th>\n",
              "    </tr>\n",
              "  </thead>\n",
              "  <tbody>\n",
              "    <tr>\n",
              "      <th>19</th>\n",
              "      <td>1c1caf9a-ba04-11ed-ba8d-a4c3f0856cc6</td>\n",
              "      <td>1bfaf708-ba04-11ed-b4e7-a4c3f0856cc6</td>\n",
              "      <td>awesome</td>\n",
              "      <td>Aaron is a great professor! Show up to class, ...</td>\n",
              "      <td>Oct 10th, 2019</td>\n",
              "      <td>BUSMKT1422</td>\n",
              "      <td>0.0</td>\n",
              "      <td>0.0</td>\n",
              "      <td>5.0</td>\n",
              "      <td>2.0</td>\n",
              "      <td>...</td>\n",
              "      <td>Would Take Again: Yes</td>\n",
              "      <td>Grade: Not sure yet</td>\n",
              "      <td>Textbook: No</td>\n",
              "      <td>NaN</td>\n",
              "      <td>Participation matters</td>\n",
              "      <td>Inspirational</td>\n",
              "      <td>Amazing lectures</td>\n",
              "      <td>NaN</td>\n",
              "      <td>NaN</td>\n",
              "      <td>[Participation matters, Inspirational, Amazing...</td>\n",
              "    </tr>\n",
              "    <tr>\n",
              "      <th>20</th>\n",
              "      <td>1c1dc01e-ba04-11ed-9f47-a4c3f0856cc6</td>\n",
              "      <td>1bfaf708-ba04-11ed-b4e7-a4c3f0856cc6</td>\n",
              "      <td>awesome</td>\n",
              "      <td>This class teaches you about real world busine...</td>\n",
              "      <td>Apr 11th, 2019</td>\n",
              "      <td>BUSMKT1425</td>\n",
              "      <td>0.0</td>\n",
              "      <td>0.0</td>\n",
              "      <td>5.0</td>\n",
              "      <td>2.0</td>\n",
              "      <td>...</td>\n",
              "      <td>Would Take Again: Yes</td>\n",
              "      <td>Textbook: No</td>\n",
              "      <td>NaN</td>\n",
              "      <td>NaN</td>\n",
              "      <td>Respected</td>\n",
              "      <td>Clear grading criteria</td>\n",
              "      <td>Hilarious</td>\n",
              "      <td>NaN</td>\n",
              "      <td>NaN</td>\n",
              "      <td>[Respected, Clear grading criteria, Hilarious]</td>\n",
              "    </tr>\n",
              "    <tr>\n",
              "      <th>21</th>\n",
              "      <td>1c1ef842-ba04-11ed-908a-a4c3f0856cc6</td>\n",
              "      <td>1bfaf708-ba04-11ed-b4e7-a4c3f0856cc6</td>\n",
              "      <td>awesome</td>\n",
              "      <td>Very applicable to life. Definitely worth taking!</td>\n",
              "      <td>Apr 11th, 2019</td>\n",
              "      <td>BUSMKT1425</td>\n",
              "      <td>0.0</td>\n",
              "      <td>0.0</td>\n",
              "      <td>5.0</td>\n",
              "      <td>2.0</td>\n",
              "      <td>...</td>\n",
              "      <td>Textbook: No</td>\n",
              "      <td>NaN</td>\n",
              "      <td>NaN</td>\n",
              "      <td>NaN</td>\n",
              "      <td>Participation matters</td>\n",
              "      <td>Graded by few things</td>\n",
              "      <td>Hilarious</td>\n",
              "      <td>NaN</td>\n",
              "      <td>NaN</td>\n",
              "      <td>[Participation matters, Graded by few things, ...</td>\n",
              "    </tr>\n",
              "    <tr>\n",
              "      <th>22</th>\n",
              "      <td>1c1fe27a-ba04-11ed-9116-a4c3f0856cc6</td>\n",
              "      <td>1bfaf708-ba04-11ed-b4e7-a4c3f0856cc6</td>\n",
              "      <td>awesome</td>\n",
              "      <td>The best class anyone at Pitt can take, so man...</td>\n",
              "      <td>Apr 11th, 2019</td>\n",
              "      <td>BUSMK1425</td>\n",
              "      <td>0.0</td>\n",
              "      <td>0.0</td>\n",
              "      <td>5.0</td>\n",
              "      <td>3.0</td>\n",
              "      <td>...</td>\n",
              "      <td>Would Take Again: Yes</td>\n",
              "      <td>Grade: A</td>\n",
              "      <td>Textbook: No</td>\n",
              "      <td>NaN</td>\n",
              "      <td>Inspirational</td>\n",
              "      <td>Clear grading criteria</td>\n",
              "      <td>Lecture heavy</td>\n",
              "      <td>NaN</td>\n",
              "      <td>NaN</td>\n",
              "      <td>[Inspirational, Clear grading criteria, Lectur...</td>\n",
              "    </tr>\n",
              "    <tr>\n",
              "      <th>23</th>\n",
              "      <td>1c2141fa-ba04-11ed-ad7f-a4c3f0856cc6</td>\n",
              "      <td>1bfaf708-ba04-11ed-b4e7-a4c3f0856cc6</td>\n",
              "      <td>awesome</td>\n",
              "      <td>Aaron is one of my favorite professors i have ...</td>\n",
              "      <td>Apr 11th, 2019</td>\n",
              "      <td>BUSMKT1425</td>\n",
              "      <td>0.0</td>\n",
              "      <td>1.0</td>\n",
              "      <td>5.0</td>\n",
              "      <td>2.0</td>\n",
              "      <td>...</td>\n",
              "      <td>Would Take Again: Yes</td>\n",
              "      <td>Textbook: No</td>\n",
              "      <td>NaN</td>\n",
              "      <td>NaN</td>\n",
              "      <td>Respected</td>\n",
              "      <td>Amazing lectures</td>\n",
              "      <td>Caring</td>\n",
              "      <td>NaN</td>\n",
              "      <td>NaN</td>\n",
              "      <td>[Respected, Amazing lectures, Caring]</td>\n",
              "    </tr>\n",
              "    <tr>\n",
              "      <th>...</th>\n",
              "      <td>...</td>\n",
              "      <td>...</td>\n",
              "      <td>...</td>\n",
              "      <td>...</td>\n",
              "      <td>...</td>\n",
              "      <td>...</td>\n",
              "      <td>...</td>\n",
              "      <td>...</td>\n",
              "      <td>...</td>\n",
              "      <td>...</td>\n",
              "      <td>...</td>\n",
              "      <td>...</td>\n",
              "      <td>...</td>\n",
              "      <td>...</td>\n",
              "      <td>...</td>\n",
              "      <td>...</td>\n",
              "      <td>...</td>\n",
              "      <td>...</td>\n",
              "      <td>...</td>\n",
              "      <td>...</td>\n",
              "      <td>...</td>\n",
              "    </tr>\n",
              "    <tr>\n",
              "      <th>29912</th>\n",
              "      <td>c1d70f68-ba05-11ed-be58-a4c3f0856cc6</td>\n",
              "      <td>c1cd245a-ba05-11ed-a2a7-a4c3f0856cc6</td>\n",
              "      <td>awesome</td>\n",
              "      <td>Yury is a young, soft spoken professor with a ...</td>\n",
              "      <td>Mar 16th, 2017</td>\n",
              "      <td>MATH1310</td>\n",
              "      <td>0.0</td>\n",
              "      <td>1.0</td>\n",
              "      <td>4.0</td>\n",
              "      <td>3.0</td>\n",
              "      <td>...</td>\n",
              "      <td>Would Take Again: Yes</td>\n",
              "      <td>Textbook: Yes</td>\n",
              "      <td>NaN</td>\n",
              "      <td>NaN</td>\n",
              "      <td>Clear grading criteria</td>\n",
              "      <td>NaN</td>\n",
              "      <td>NaN</td>\n",
              "      <td>NaN</td>\n",
              "      <td>NaN</td>\n",
              "      <td>[Clear grading criteria]</td>\n",
              "    </tr>\n",
              "    <tr>\n",
              "      <th>29913</th>\n",
              "      <td>c1d846a2-ba05-11ed-9109-a4c3f0856cc6</td>\n",
              "      <td>c1cd245a-ba05-11ed-a2a7-a4c3f0856cc6</td>\n",
              "      <td>awesome</td>\n",
              "      <td>The class is very difficult, and Yury does an ...</td>\n",
              "      <td>Nov 23rd, 2016</td>\n",
              "      <td>MATH0230</td>\n",
              "      <td>2.0</td>\n",
              "      <td>0.0</td>\n",
              "      <td>4.0</td>\n",
              "      <td>5.0</td>\n",
              "      <td>...</td>\n",
              "      <td>Grade: C</td>\n",
              "      <td>Textbook: Yes</td>\n",
              "      <td>NaN</td>\n",
              "      <td>NaN</td>\n",
              "      <td>Tough Grader</td>\n",
              "      <td>Skip class? You won't pass.</td>\n",
              "      <td>Clear grading criteria</td>\n",
              "      <td>NaN</td>\n",
              "      <td>NaN</td>\n",
              "      <td>[Tough Grader, Skip class? You won't pass., Cl...</td>\n",
              "    </tr>\n",
              "    <tr>\n",
              "      <th>29915</th>\n",
              "      <td>c212b928-ba05-11ed-8317-a4c3f0856cc6</td>\n",
              "      <td>c20d1386-ba05-11ed-a9eb-a4c3f0856cc6</td>\n",
              "      <td>awesome</td>\n",
              "      <td>Dr. Destin was fantastic! He was very clear ab...</td>\n",
              "      <td>Oct 7th, 2017</td>\n",
              "      <td>SOC1001</td>\n",
              "      <td>0.0</td>\n",
              "      <td>0.0</td>\n",
              "      <td>5.0</td>\n",
              "      <td>2.0</td>\n",
              "      <td>...</td>\n",
              "      <td>Grade: A</td>\n",
              "      <td>Textbook: Yes</td>\n",
              "      <td>NaN</td>\n",
              "      <td>NaN</td>\n",
              "      <td>Gives good feedback</td>\n",
              "      <td>ACCESSIBLE OUTSIDE CLASS</td>\n",
              "      <td>Clear grading criteria</td>\n",
              "      <td>NaN</td>\n",
              "      <td>NaN</td>\n",
              "      <td>[Gives good feedback, ACCESSIBLE OUTSIDE CLASS...</td>\n",
              "    </tr>\n",
              "    <tr>\n",
              "      <th>29916</th>\n",
              "      <td>c213f176-ba05-11ed-b4da-a4c3f0856cc6</td>\n",
              "      <td>c20d1386-ba05-11ed-a9eb-a4c3f0856cc6</td>\n",
              "      <td>awesome</td>\n",
              "      <td>Such a nice guy. I took his class at the Unive...</td>\n",
              "      <td>Nov 7th, 2016</td>\n",
              "      <td>SOC0150</td>\n",
              "      <td>0.0</td>\n",
              "      <td>0.0</td>\n",
              "      <td>5.0</td>\n",
              "      <td>3.0</td>\n",
              "      <td>...</td>\n",
              "      <td>Would Take Again: Yes</td>\n",
              "      <td>Grade: A</td>\n",
              "      <td>Textbook: No</td>\n",
              "      <td>NaN</td>\n",
              "      <td>Respected</td>\n",
              "      <td>Clear grading criteria</td>\n",
              "      <td>Caring</td>\n",
              "      <td>NaN</td>\n",
              "      <td>NaN</td>\n",
              "      <td>[Respected, Clear grading criteria, Caring]</td>\n",
              "    </tr>\n",
              "    <tr>\n",
              "      <th>29917</th>\n",
              "      <td>c2159df6-ba05-11ed-9b43-a4c3f0856cc6</td>\n",
              "      <td>c20d1386-ba05-11ed-a9eb-a4c3f0856cc6</td>\n",
              "      <td>awesome</td>\n",
              "      <td>Dr. Destin's Intro to Sociology class was much...</td>\n",
              "      <td>Aug 16th, 2016</td>\n",
              "      <td>SOC1001</td>\n",
              "      <td>0.0</td>\n",
              "      <td>0.0</td>\n",
              "      <td>5.0</td>\n",
              "      <td>4.0</td>\n",
              "      <td>...</td>\n",
              "      <td>Textbook: No</td>\n",
              "      <td>NaN</td>\n",
              "      <td>NaN</td>\n",
              "      <td>NaN</td>\n",
              "      <td>Gives good feedback</td>\n",
              "      <td>Participation matters</td>\n",
              "      <td>Amazing lectures</td>\n",
              "      <td>NaN</td>\n",
              "      <td>NaN</td>\n",
              "      <td>[Gives good feedback, Participation matters, A...</td>\n",
              "    </tr>\n",
              "  </tbody>\n",
              "</table>\n",
              "<p>8999 rows × 22 columns</p>\n",
              "</div>"
            ]
          },
          "metadata": {},
          "execution_count": 10
        }
      ],
      "source": [
        "# have the training set only have those with 1+ tags\n",
        "cols = ['tag0', 'tag1', 'tag2', 'tag3', 'tag4']\n",
        "# if theres atl one non nan value consider it\n",
        "reviews ['combined'] = reviews[cols].apply(lambda row: list(row.dropna()) if row.any() else [], axis=1) \n",
        "reviews[reviews['combined'].map(lambda l: len(l)) > 0]"
      ]
    },
    {
      "cell_type": "code",
      "execution_count": null,
      "metadata": {
        "colab": {
          "base_uri": "https://localhost:8080/"
        },
        "id": "q6as2PEIZeJE",
        "outputId": "7054f0dc-6f7b-405f-c612-2ebf0fb0579a"
      },
      "outputs": [
        {
          "output_type": "stream",
          "name": "stdout",
          "text": [
            "23874\n"
          ]
        },
        {
          "output_type": "execute_result",
          "data": {
            "text/plain": [
              "25"
            ]
          },
          "metadata": {},
          "execution_count": 8
        }
      ],
      "source": [
        "# look at the labels\n",
        "tags = []\n",
        "\n",
        "for l in reviews['combined']:\n",
        "  if len(l) > 0:\n",
        "    for tag in l:\n",
        "      tags.append(tag.lower())\n",
        "print(len(tags))\n",
        "len(set(tags))"
      ]
    },
    {
      "cell_type": "code",
      "execution_count": null,
      "metadata": {
        "id": "pnm2vJ0naZu9"
      },
      "outputs": [],
      "source": [
        "all_tags = nltk.FreqDist(tags) \n",
        "tags_df = pd.DataFrame({'Tag': list(all_tags.keys()), \n",
        "                              'Count': list(all_tags.values())})"
      ]
    },
    {
      "cell_type": "code",
      "execution_count": null,
      "metadata": {
        "colab": {
          "base_uri": "https://localhost:8080/",
          "height": 877
        },
        "id": "Q_m6r0Ylbdss",
        "outputId": "da950404-2877-458a-ca7e-b9e13cf466ad"
      },
      "outputs": [
        {
          "output_type": "display_data",
          "data": {
            "text/plain": [
              "<Figure size 864x1080 with 1 Axes>"
            ],
            "image/png": "[encoded data removed]"
          },
          "metadata": {
            "needs_background": "light"
          }
        }
      ],
      "source": [
        "# frequency of the tags\n",
        "g = tags_df.nlargest(columns=\"Count\", n = 50) \n",
        "plt.figure(figsize=(12,15)) \n",
        "ax = sns.barplot(data=g, x= \"Count\", y=\"Tag\") \n",
        "ax.set(ylabel = 'Count') \n",
        "plt.show()\n",
        "# maybe make 1000 the baseline (get 10 labels that work really well)"
      ]
    },
    {
      "cell_type": "code",
      "execution_count": null,
      "metadata": {
        "id": "4DS-xZsWN6sx"
      },
      "outputs": [],
      "source": [
        "labeled_data = reviews[reviews['combined'].map(lambda l: len(l)) > 0]"
      ]
    },
    {
      "cell_type": "code",
      "execution_count": null,
      "metadata": {
        "id": "1Y62PnQuYfNI"
      },
      "outputs": [],
      "source": [
        "# do data cleaning\n",
        "type(labeled_data['comment'])\n",
        "comments_list = [str(x).lower() for x in labeled_data['comment'].tolist()]\n",
        "comments_list = [clean_text(word, puncts=True, stopwords=True) for word in comments_list] # prob dont stem"
      ]
    },
    {
      "cell_type": "code",
      "execution_count": null,
      "metadata": {
        "colab": {
          "base_uri": "https://localhost:8080/"
        },
        "id": "P_RyZ05wUM31",
        "outputId": "a7ce1fc5-b5cb-4412-a147-7eeabf920439"
      },
      "outputs": [
        {
          "output_type": "execute_result",
          "data": {
            "text/plain": [
              "['aaron great professor class participate turn assignments youre good',\n",
              " 'class teaches real world business aaron brings guest speakers different aspects business super interesting throughly enjoyed class rare',\n",
              " 'applicable life definitely worth taking',\n",
              " 'best class pitt life lessons learned real world experience class required great professor better content',\n",
              " 'aaron favorite professors taken college brings real work practices class hard find brings great guest speakers help teach different dynamics class',\n",
              " 'aaron marketing elective class laidback brings great people valuable lessons',\n",
              " 'aaron truly care students classes brings guest speakers professional business perspectives business field life greatly help student couldnt recommend great professor breaks monotony professors',\n",
              " 'great class downfall thursday nights best helpful class',\n",
              " 'aaron cares getting ready real world brings speakers semester educate class topics class wont teach highly recommend taking class matter major youll greatly benefit taking course',\n",
              " 'great man tons advice thrown way credentials']"
            ]
          },
          "metadata": {},
          "execution_count": 13
        }
      ],
      "source": [
        "comments_list[:10]"
      ]
    },
    {
      "cell_type": "code",
      "execution_count": null,
      "metadata": {
        "colab": {
          "base_uri": "https://localhost:8080/",
          "height": 877
        },
        "id": "cG2au0qIX3Z1",
        "outputId": "73777603-2e63-4582-d43d-58894eb8bcb9"
      },
      "outputs": [
        {
          "output_type": "display_data",
          "data": {
            "text/plain": [
              "<Figure size 864x1080 with 1 Axes>"
            ],
            "image/png": "[encoded data removed]"
          },
          "metadata": {
            "needs_background": "light"
          }
        }
      ],
      "source": [
        "def freq_words(x, terms = 30): \n",
        "  all_words = ' '.join([text for text in x]) \n",
        "  all_words = all_words.split() \n",
        "  fdist = nltk.FreqDist(all_words) \n",
        "  words_df = pd.DataFrame({'word':list(fdist.keys()), 'count':list(fdist.values())}) \n",
        "  \n",
        "  # selecting top 20 most frequent words \n",
        "  d = words_df.nlargest(columns=\"count\", n = terms) \n",
        "  \n",
        "  # visualize words and frequencies\n",
        "  plt.figure(figsize=(12,15)) \n",
        "  ax = sns.barplot(data=d, x= \"count\", y = \"word\") \n",
        "  ax.set(ylabel = 'Word') \n",
        "  plt.show()\n",
        "  \n",
        "# print 100 most frequent words \n",
        "freq_words(comments_list, 100)"
      ]
    },
    {
      "cell_type": "code",
      "execution_count": null,
      "metadata": {
        "id": "qqaKQ1YolOV0"
      },
      "outputs": [],
      "source": [
        "# convert text to features\n",
        "from sklearn.preprocessing import MultiLabelBinarizer\n",
        "\n",
        "multilabel_binarizer = MultiLabelBinarizer()\n",
        "multilabel_binarizer.fit(labeled_data['combined'])\n",
        "\n",
        "target_variables = multilabel_binarizer.transform(labeled_data['combined'])"
      ]
    },
    {
      "cell_type": "code",
      "execution_count": null,
      "metadata": {
        "id": "eT_Fx8UDgUVj"
      },
      "outputs": [],
      "source": [
        "from sklearn.feature_extraction.text import TfidfVectorizer\n",
        "tfidf_vectorizer = TfidfVectorizer(max_df=0.8, max_features=10000)"
      ]
    },
    {
      "cell_type": "code",
      "execution_count": null,
      "metadata": {
        "colab": {
          "base_uri": "https://localhost:8080/"
        },
        "id": "PpXmYjO3g3yu",
        "outputId": "866307d3-c9f6-45e8-f91a-7bdfc07a698e"
      },
      "outputs": [
        {
          "output_type": "execute_result",
          "data": {
            "text/plain": [
              "19       Aaron is a great professor! Show up to class, ...\n",
              "20       This class teaches you about real world busine...\n",
              "21       Very applicable to life. Definitely worth taking!\n",
              "22       The best class anyone at Pitt can take, so man...\n",
              "23       Aaron is one of my favorite professors i have ...\n",
              "                               ...                        \n",
              "29912    Yury is a young, soft spoken professor with a ...\n",
              "29913    The class is very difficult, and Yury does an ...\n",
              "29915    Dr. Destin was fantastic! He was very clear ab...\n",
              "29916    Such a nice guy. I took his class at the Unive...\n",
              "29917    Dr. Destin's Intro to Sociology class was much...\n",
              "Name: comment, Length: 8999, dtype: object"
            ]
          },
          "metadata": {},
          "execution_count": 17
        }
      ],
      "source": [
        "labeled_data['comment']"
      ]
    },
    {
      "cell_type": "code",
      "execution_count": null,
      "metadata": {
        "id": "C5cSb9K8gmBw"
      },
      "outputs": [],
      "source": [
        "from sklearn.model_selection import train_test_split\n",
        "xtrain, xval, ytrain, yval = train_test_split(comments_list, target_variables, test_size=0.2, random_state=9)"
      ]
    },
    {
      "cell_type": "code",
      "execution_count": null,
      "metadata": {
        "id": "7nAVWbsyhYSH"
      },
      "outputs": [],
      "source": [
        "# create TF-IDF features (term freq * inverse document freq)\n",
        "xtrain_tfidf = tfidf_vectorizer.fit_transform(xtrain)\n",
        "xval_tfidf = tfidf_vectorizer.transform(xval)"
      ]
    },
    {
      "cell_type": "code",
      "execution_count": null,
      "metadata": {
        "id": "cgaXmZlvhf5q"
      },
      "outputs": [],
      "source": [
        "from sklearn.linear_model import LogisticRegression\n",
        "\n",
        "# Binary Relevance\n",
        "from sklearn.multiclass import OneVsRestClassifier\n",
        "\n",
        "# Performance metric\n",
        "from sklearn.metrics import f1_score"
      ]
    },
    {
      "cell_type": "code",
      "execution_count": null,
      "metadata": {
        "colab": {
          "base_uri": "https://localhost:8080/",
          "height": 117
        },
        "id": "w44Dr2nihmuS",
        "outputId": "55c297c7-645b-455f-89ee-43c4c4729c61"
      },
      "outputs": [
        {
          "output_type": "execute_result",
          "data": {
            "text/plain": [
              "OneVsRestClassifier(estimator=LogisticRegression())"
            ],
            "text/html": [
              "<style>#sk-container-id-1 {color: black;background-color: white;}#sk-container-id-1 pre{padding: 0;}#sk-container-id-1 div.sk-toggleable {background-color: white;}#sk-container-id-1 label.sk-toggleable__label {cursor: pointer;display: block;width: 100%;margin-bottom: 0;padding: 0.3em;box-sizing: border-box;text-align: center;}#sk-container-id-1 label.sk-toggleable__label-arrow:before {content: \"▸\";float: left;margin-right: 0.25em;color: #696969;}#sk-container-id-1 label.sk-toggleable__label-arrow:hover:before {color: black;}#sk-container-id-1 div.sk-estimator:hover label.sk-toggleable__label-arrow:before {color: black;}#sk-container-id-1 div.sk-toggleable__content {max-height: 0;max-width: 0;overflow: hidden;text-align: left;background-color: #f0f8ff;}#sk-container-id-1 div.sk-toggleable__content pre {margin: 0.2em;color: black;border-radius: 0.25em;background-color: #f0f8ff;}#sk-container-id-1 input.sk-toggleable__control:checked~div.sk-toggleable__content {max-height: 200px;max-width: 100%;overflow: auto;}#sk-container-id-1 input.sk-toggleable__control:checked~label.sk-toggleable__label-arrow:before {content: \"▾\";}#sk-container-id-1 div.sk-estimator input.sk-toggleable__control:checked~label.sk-toggleable__label {background-color: #d4ebff;}#sk-container-id-1 div.sk-label input.sk-toggleable__control:checked~label.sk-toggleable__label {background-color: #d4ebff;}#sk-container-id-1 input.sk-hidden--visually {border: 0;clip: rect(1px 1px 1px 1px);clip: rect(1px, 1px, 1px, 1px);height: 1px;margin: -1px;overflow: hidden;padding: 0;position: absolute;width: 1px;}#sk-container-id-1 div.sk-estimator {font-family: monospace;background-color: #f0f8ff;border: 1px dotted black;border-radius: 0.25em;box-sizing: border-box;margin-bottom: 0.5em;}#sk-container-id-1 div.sk-estimator:hover {background-color: #d4ebff;}#sk-container-id-1 div.sk-parallel-item::after {content: \"\";width: 100%;border-bottom: 1px solid gray;flex-grow: 1;}#sk-container-id-1 div.sk-label:hover label.sk-toggleable__label {background-color: #d4ebff;}#sk-container-id-1 div.sk-serial::before {content: \"\";position: absolute;border-left: 1px solid gray;box-sizing: border-box;top: 0;bottom: 0;left: 50%;z-index: 0;}#sk-container-id-1 div.sk-serial {display: flex;flex-direction: column;align-items: center;background-color: white;padding-right: 0.2em;padding-left: 0.2em;position: relative;}#sk-container-id-1 div.sk-item {position: relative;z-index: 1;}#sk-container-id-1 div.sk-parallel {display: flex;align-items: stretch;justify-content: center;background-color: white;position: relative;}#sk-container-id-1 div.sk-item::before, #sk-container-id-1 div.sk-parallel-item::before {content: \"\";position: absolute;border-left: 1px solid gray;box-sizing: border-box;top: 0;bottom: 0;left: 50%;z-index: -1;}#sk-container-id-1 div.sk-parallel-item {display: flex;flex-direction: column;z-index: 1;position: relative;background-color: white;}#sk-container-id-1 div.sk-parallel-item:first-child::after {align-self: flex-end;width: 50%;}#sk-container-id-1 div.sk-parallel-item:last-child::after {align-self: flex-start;width: 50%;}#sk-container-id-1 div.sk-parallel-item:only-child::after {width: 0;}#sk-container-id-1 div.sk-dashed-wrapped {border: 1px dashed gray;margin: 0 0.4em 0.5em 0.4em;box-sizing: border-box;padding-bottom: 0.4em;background-color: white;}#sk-container-id-1 div.sk-label label {font-family: monospace;font-weight: bold;display: inline-block;line-height: 1.2em;}#sk-container-id-1 div.sk-label-container {text-align: center;}#sk-container-id-1 div.sk-container {/* jupyter's `normalize.less` sets `[hidden] { display: none; }` but bootstrap.min.css set `[hidden] { display: none !important; }` so we also need the `!important` here to be able to override the default hidden behavior on the sphinx rendered scikit-learn.org. See: https://github.com/scikit-learn/scikit-learn/issues/21755 */display: inline-block !important;position: relative;}#sk-container-id-1 div.sk-text-repr-fallback {display: none;}</style><div id=\"sk-container-id-1\" class=\"sk-top-container\"><div class=\"sk-text-repr-fallback\"><pre>OneVsRestClassifier(estimator=LogisticRegression())</pre><b>In a Jupyter environment, please rerun this cell to show the HTML representation or trust the notebook. <br />On GitHub, the HTML representation is unable to render, please try loading this page with nbviewer.org.</b></div><div class=\"sk-container\" hidden><div class=\"sk-item sk-dashed-wrapped\"><div class=\"sk-label-container\"><div class=\"sk-label sk-toggleable\"><input class=\"sk-toggleable__control sk-hidden--visually\" id=\"sk-estimator-id-1\" type=\"checkbox\" ><label for=\"sk-estimator-id-1\" class=\"sk-toggleable__label sk-toggleable__label-arrow\">OneVsRestClassifier</label><div class=\"sk-toggleable__content\"><pre>OneVsRestClassifier(estimator=LogisticRegression())</pre></div></div></div><div class=\"sk-parallel\"><div class=\"sk-parallel-item\"><div class=\"sk-item\"><div class=\"sk-label-container\"><div class=\"sk-label sk-toggleable\"><input class=\"sk-toggleable__control sk-hidden--visually\" id=\"sk-estimator-id-2\" type=\"checkbox\" ><label for=\"sk-estimator-id-2\" class=\"sk-toggleable__label sk-toggleable__label-arrow\">estimator: LogisticRegression</label><div class=\"sk-toggleable__content\"><pre>LogisticRegression()</pre></div></div></div><div class=\"sk-serial\"><div class=\"sk-item\"><div class=\"sk-estimator sk-toggleable\"><input class=\"sk-toggleable__control sk-hidden--visually\" id=\"sk-estimator-id-3\" type=\"checkbox\" ><label for=\"sk-estimator-id-3\" class=\"sk-toggleable__label sk-toggleable__label-arrow\">LogisticRegression</label><div class=\"sk-toggleable__content\"><pre>LogisticRegression()</pre></div></div></div></div></div></div></div></div></div></div>"
            ]
          },
          "metadata": {},
          "execution_count": 21
        }
      ],
      "source": [
        "lr = LogisticRegression()\n",
        "clf = OneVsRestClassifier(lr)\n",
        "clf.fit(xtrain_tfidf, ytrain)"
      ]
    },
    {
      "cell_type": "code",
      "execution_count": null,
      "metadata": {
        "id": "-NOeFC6Rh4cz"
      },
      "outputs": [],
      "source": [
        "# make predictions for validation set\n",
        "y_pred = clf.predict(xval_tfidf)"
      ]
    },
    {
      "cell_type": "code",
      "execution_count": null,
      "metadata": {
        "id": "UO2pNVdr0tJQ"
      },
      "outputs": [],
      "source": [
        "#type(y_pred)\n",
        "multilabel_binarizer.inverse_transform(y_pred)[9]\n",
        "count_not_labeled = 0\n",
        "count_labeled = 0\n",
        "for i, a in enumerate(y_pred):\n",
        "  pred = multilabel_binarizer.inverse_transform(y_pred)[i]\n",
        "  if len(pred) > 0:\n",
        "    #print(pred)\n",
        "    count_labeled += 1\n",
        "  else:\n",
        "    count_not_labeled += 1"
      ]
    },
    {
      "cell_type": "code",
      "source": [
        "print(count_not_labeled)\n",
        "print(count_labeled)"
      ],
      "metadata": {
        "colab": {
          "base_uri": "https://localhost:8080/"
        },
        "id": "vzKMklG0LCNb",
        "outputId": "3644688c-1c7d-4672-ce35-aeb6775b3e0a"
      },
      "execution_count": null,
      "outputs": [
        {
          "output_type": "stream",
          "name": "stdout",
          "text": [
            "1538\n",
            "262\n"
          ]
        }
      ]
    },
    {
      "cell_type": "code",
      "execution_count": null,
      "metadata": {
        "colab": {
          "base_uri": "https://localhost:8080/"
        },
        "id": "PEzZ5roYh8l9",
        "outputId": "1bb81d28-af1f-49c0-964b-8445096ab0b6"
      },
      "outputs": [
        {
          "data": {
            "text/plain": [
              "0.06639167157729325"
            ]
          },
          "execution_count": 26,
          "metadata": {},
          "output_type": "execute_result"
        }
      ],
      "source": [
        "f1_score(yval, y_pred, average=\"micro\")"
      ]
    },
    {
      "cell_type": "code",
      "execution_count": null,
      "metadata": {
        "colab": {
          "base_uri": "https://localhost:8080/"
        },
        "id": "b7FJGVZpi2kE",
        "outputId": "6ec6859d-39f4-4963-e8cb-dec74368e985"
      },
      "outputs": [
        {
          "data": {
            "text/plain": [
              "0.3139784946236559"
            ]
          },
          "execution_count": 27,
          "metadata": {},
          "output_type": "execute_result"
        }
      ],
      "source": [
        "y_pred_prob = clf.predict_proba(xval_tfidf)\n",
        "\n",
        "\n",
        "t = 0.25 # threshold value\n",
        "y_pred_new = (y_pred_prob >= t).astype(int)\n",
        "\n",
        "\n",
        "# evaluate performance\n",
        "f1_score(yval, y_pred_new, average=\"micro\")"
      ]
    },
    {
      "cell_type": "code",
      "source": [
        "def infer_tags(q):\n",
        "    q = clean_text(q)\n",
        "    q_vec = tfidf_vectorizer.transform([q])\n",
        "    q_pred = clf.predict(q_vec)\n",
        "    return multilabel_binarizer.inverse_transform(q_pred)"
      ],
      "metadata": {
        "id": "lV2pdkbkMJke"
      },
      "execution_count": null,
      "outputs": []
    },
    {
      "cell_type": "code",
      "source": [
        "infer_tags(\"this class sucked, was very lecture heavy. teacher requires attendence, i would not recommend. super inspirational and caring but lots of homework\")"
      ],
      "metadata": {
        "colab": {
          "base_uri": "https://localhost:8080/"
        },
        "id": "NmYg2V63MXr8",
        "outputId": "39e4177e-6868-4e70-b78d-2deb236490c4"
      },
      "execution_count": null,
      "outputs": [
        {
          "output_type": "execute_result",
          "data": {
            "text/plain": [
              "[()]"
            ]
          },
          "metadata": {},
          "execution_count": 38
        }
      ]
    },
    {
      "cell_type": "code",
      "source": [
        "count = 0\n",
        "result = []\n",
        "for i, row in enumerate(reviews['combined']):\n",
        "  if row == []:\n",
        "    count+=1 \n",
        "    result.append(infer_tags(str(reviews['comment'][i])))"
      ],
      "metadata": {
        "id": "9OGQHpp3MjQK"
      },
      "execution_count": null,
      "outputs": []
    },
    {
      "cell_type": "code",
      "source": [],
      "metadata": {
        "id": "ahmWa8oPPG-g"
      },
      "execution_count": null,
      "outputs": []
    },
    {
      "cell_type": "code",
      "execution_count": null,
      "metadata": {
        "id": "jBI9RhfGZoWM"
      },
      "outputs": [],
      "source": [
        "# lets try basic model first\n",
        "#topic_model = BERTopic(verbose=True)\n",
        "#topics, probs = topic_model.fit_transform(comments_list)"
      ]
    },
    {
      "cell_type": "code",
      "source": [],
      "metadata": {
        "colab": {
          "base_uri": "https://localhost:8080/"
        },
        "id": "K5xyOCHdPYPs",
        "outputId": "0f262d55-7e51-45a1-cd76-f94c68dfab93"
      },
      "execution_count": null,
      "outputs": [
        {
          "output_type": "stream",
          "name": "stdout",
          "text": [
            "Looking in indexes: https://pypi.org/simple, https://us-python.pkg.dev/colab-wheels/public/simple/\n",
            "Requirement already satisfied: flask_restful in /usr/local/lib/python3.9/dist-packages (0.3.9)\n",
            "Requirement already satisfied: pytz in /usr/local/lib/python3.9/dist-packages (from flask_restful) (2022.7.1)\n",
            "Requirement already satisfied: Flask>=0.8 in /usr/local/lib/python3.9/dist-packages (from flask_restful) (2.2.3)\n",
            "Requirement already satisfied: six>=1.3.0 in /usr/local/lib/python3.9/dist-packages (from flask_restful) (1.16.0)\n",
            "Requirement already satisfied: aniso8601>=0.82 in /usr/local/lib/python3.9/dist-packages (from flask_restful) (9.0.1)\n",
            "Requirement already satisfied: Werkzeug>=2.2.2 in /usr/local/lib/python3.9/dist-packages (from Flask>=0.8->flask_restful) (2.2.3)\n",
            "Requirement already satisfied: click>=8.0 in /usr/local/lib/python3.9/dist-packages (from Flask>=0.8->flask_restful) (8.1.3)\n",
            "Requirement already satisfied: itsdangerous>=2.0 in /usr/local/lib/python3.9/dist-packages (from Flask>=0.8->flask_restful) (2.1.2)\n",
            "Requirement already satisfied: importlib-metadata>=3.6.0 in /usr/local/lib/python3.9/dist-packages (from Flask>=0.8->flask_restful) (6.1.0)\n",
            "Requirement already satisfied: Jinja2>=3.0 in /usr/local/lib/python3.9/dist-packages (from Flask>=0.8->flask_restful) (3.1.2)\n",
            "Requirement already satisfied: zipp>=0.5 in /usr/local/lib/python3.9/dist-packages (from importlib-metadata>=3.6.0->Flask>=0.8->flask_restful) (3.15.0)\n",
            "Requirement already satisfied: MarkupSafe>=2.0 in /usr/local/lib/python3.9/dist-packages (from Jinja2>=3.0->Flask>=0.8->flask_restful) (2.1.2)\n"
          ]
        }
      ]
    },
    {
      "cell_type": "code",
      "source": [],
      "metadata": {
        "id": "PtP1RyQATS0Z"
      },
      "execution_count": null,
      "outputs": []
    },
    {
      "cell_type": "code",
      "execution_count": null,
      "metadata": {
        "id": "_bPZM-1sHTWy"
      },
      "outputs": [],
      "source": []
    },
    {
      "cell_type": "code",
      "source": [],
      "metadata": {
        "colab": {
          "base_uri": "https://localhost:8080/"
        },
        "id": "8evcpW8cTBU6",
        "outputId": "ed4ccaae-4318-4ca1-ac18-70e79c993a95"
      },
      "execution_count": null,
      "outputs": [
        {
          "output_type": "execute_result",
          "data": {
            "text/plain": [
              "<flask_restful.reqparse.RequestParser at 0x7f56c3e459d0>"
            ]
          },
          "metadata": {},
          "execution_count": 46
        }
      ]
    },
    {
      "cell_type": "code",
      "source": [],
      "metadata": {
        "id": "IDom6XJmTI1F"
      },
      "execution_count": null,
      "outputs": []
    },
    {
      "cell_type": "code",
      "source": [],
      "metadata": {
        "colab": {
          "base_uri": "https://localhost:8080/",
          "height": 235
        },
        "id": "_QovuH8yVeIV",
        "outputId": "c9b8782d-8848-4938-b762-402272529c23"
      },
      "execution_count": null,
      "outputs": [
        {
          "output_type": "error",
          "ename": "FileNotFoundError",
          "evalue": "ignored",
          "traceback": [
            "\u001b[0;31m---------------------------------------------------------------------------\u001b[0m",
            "\u001b[0;31mFileNotFoundError\u001b[0m                         Traceback (most recent call last)",
            "\u001b[0;32m<ipython-input-53-8cda75a1f533>\u001b[0m in \u001b[0;36m<module>\u001b[0;34m\u001b[0m\n\u001b[1;32m      2\u001b[0m \u001b[0;32mif\u001b[0m \u001b[0m__name__\u001b[0m \u001b[0;34m==\u001b[0m \u001b[0;34m'__main__'\u001b[0m\u001b[0;34m:\u001b[0m\u001b[0;34m\u001b[0m\u001b[0;34m\u001b[0m\u001b[0m\n\u001b[1;32m      3\u001b[0m   \u001b[0;31m# Load model\u001b[0m\u001b[0;34m\u001b[0m\u001b[0;34m\u001b[0m\u001b[0m\n\u001b[0;32m----> 4\u001b[0;31m     \u001b[0;32mwith\u001b[0m \u001b[0mopen\u001b[0m\u001b[0;34m(\u001b[0m\u001b[0;34m'model.pickle'\u001b[0m\u001b[0;34m,\u001b[0m \u001b[0;34m'rb'\u001b[0m\u001b[0;34m)\u001b[0m \u001b[0;32mas\u001b[0m \u001b[0mf\u001b[0m\u001b[0;34m:\u001b[0m\u001b[0;34m\u001b[0m\u001b[0;34m\u001b[0m\u001b[0m\n\u001b[0m\u001b[1;32m      5\u001b[0m         \u001b[0mmodel\u001b[0m \u001b[0;34m=\u001b[0m \u001b[0mpickle\u001b[0m\u001b[0;34m.\u001b[0m\u001b[0mload\u001b[0m\u001b[0;34m(\u001b[0m\u001b[0mf\u001b[0m\u001b[0;34m)\u001b[0m\u001b[0;34m\u001b[0m\u001b[0;34m\u001b[0m\u001b[0m\n\u001b[1;32m      6\u001b[0m \u001b[0;34m\u001b[0m\u001b[0m\n",
            "\u001b[0;31mFileNotFoundError\u001b[0m: [Errno 2] No such file or directory: 'model.pickle'"
          ]
        }
      ]
    },
    {
      "cell_type": "code",
      "source": [],
      "metadata": {
        "colab": {
          "base_uri": "https://localhost:8080/",
          "height": 182
        },
        "id": "07sYMynwWOIM",
        "outputId": "7b971c34-5e5c-42ba-871a-07aaa1116c5e"
      },
      "execution_count": null,
      "outputs": [
        {
          "output_type": "error",
          "ename": "NameError",
          "evalue": "ignored",
          "traceback": [
            "\u001b[0;31m---------------------------------------------------------------------------\u001b[0m",
            "\u001b[0;31mNameError\u001b[0m                                 Traceback (most recent call last)",
            "\u001b[0;32m<ipython-input-9-71e24efc0b4c>\u001b[0m in \u001b[0;36m<module>\u001b[0;34m\u001b[0m\n\u001b[1;32m      1\u001b[0m \u001b[0;31m# loads data for the REST API\u001b[0m\u001b[0;34m\u001b[0m\u001b[0;34m\u001b[0m\u001b[0m\n\u001b[0;32m----> 2\u001b[0;31m \u001b[0miris\u001b[0m \u001b[0;34m=\u001b[0m \u001b[0mload_iris\u001b[0m\u001b[0;34m(\u001b[0m\u001b[0;34m)\u001b[0m\u001b[0;34m\u001b[0m\u001b[0;34m\u001b[0m\u001b[0m\n\u001b[0m",
            "\u001b[0;31mNameError\u001b[0m: name 'load_iris' is not defined"
          ]
        }
      ]
    },
    {
      "cell_type": "code",
      "source": [],
      "metadata": {
        "colab": {
          "base_uri": "https://localhost:8080/",
          "height": 217
        },
        "id": "6W6GRYiwWj9d",
        "outputId": "748c8c6c-5a4c-493e-e807-3ed3bc5e38b0"
      },
      "execution_count": null,
      "outputs": [
        {
          "output_type": "error",
          "ename": "NameError",
          "evalue": "ignored",
          "traceback": [
            "\u001b[0;31m---------------------------------------------------------------------------\u001b[0m",
            "\u001b[0;31mNameError\u001b[0m                                 Traceback (most recent call last)",
            "\u001b[0;32m<ipython-input-10-df1072164f7e>\u001b[0m in \u001b[0;36m<module>\u001b[0;34m\u001b[0m\n\u001b[1;32m      1\u001b[0m \u001b[0;31m# # serializes the data in Alex's xtrain variable, so that you can send the request to the model\u001b[0m\u001b[0;34m\u001b[0m\u001b[0;34m\u001b[0m\u001b[0m\n\u001b[1;32m      2\u001b[0m \u001b[0;34m\u001b[0m\u001b[0m\n\u001b[0;32m----> 3\u001b[0;31m \u001b[0mpayload\u001b[0m \u001b[0;34m=\u001b[0m \u001b[0;34m{\u001b[0m\u001b[0;34m'data'\u001b[0m\u001b[0;34m:\u001b[0m \u001b[0mjson\u001b[0m\u001b[0;34m.\u001b[0m\u001b[0mdumps\u001b[0m\u001b[0;34m(\u001b[0m\u001b[0mxtrain\u001b[0m\u001b[0;34m.\u001b[0m\u001b[0mtolist\u001b[0m\u001b[0;34m(\u001b[0m\u001b[0;34m)\u001b[0m\u001b[0;34m)\u001b[0m\u001b[0;34m}\u001b[0m\u001b[0;34m\u001b[0m\u001b[0;34m\u001b[0m\u001b[0m\n\u001b[0m\u001b[1;32m      4\u001b[0m \u001b[0my_predict\u001b[0m \u001b[0;34m=\u001b[0m \u001b[0mrequests\u001b[0m\u001b[0;34m.\u001b[0m\u001b[0mpost\u001b[0m\u001b[0;34m(\u001b[0m\u001b[0;34m'http://127.0.0.1:5000/iris'\u001b[0m\u001b[0;34m,\u001b[0m \u001b[0mdata\u001b[0m\u001b[0;34m=\u001b[0m\u001b[0mpayload\u001b[0m\u001b[0;34m)\u001b[0m\u001b[0;34m.\u001b[0m\u001b[0mjson\u001b[0m\u001b[0;34m(\u001b[0m\u001b[0;34m)\u001b[0m\u001b[0;34m\u001b[0m\u001b[0;34m\u001b[0m\u001b[0m\n",
            "\u001b[0;31mNameError\u001b[0m: name 'json' is not defined"
          ]
        }
      ]
    },
    {
      "cell_type": "code",
      "source": [],
      "metadata": {
        "id": "r60u5TmwW9ZW"
      },
      "execution_count": null,
      "outputs": []
    }
  ],
  "metadata": {
    "colab": {
      "provenance": []
    },
    "kernelspec": {
      "display_name": "Python 3",
      "name": "python3"
    },
    "language_info": {
      "name": "python"
    }
  },
  "nbformat": 4,
  "nbformat_minor": 0
}