{
  "cells": [
    {
      "cell_type": "code",
      "execution_count": 17,
      "metadata": {
        "id": "0YE35fYtR91n"
      },
      "outputs": [],
      "source": [
        "%%capture \n",
        "!pip install scikit-multilearn\n",
        "!pip install neattext\n",
        "#!pip install nltk\n",
        "#!pip install matplotlib\n"
      ]
    },
    {
      "cell_type": "code",
      "execution_count": null,
      "metadata": {
        "id": "pPa01DXjVUgW"
      },
      "outputs": [],
      "source": [
        "from sklearn.naive_bayes import GaussianNB,MultinomialNB\n",
        "from sklearn.metrics import accuracy_score,hamming_loss\n",
        "from sklearn.model_selection import train_test_split\n",
        "from sklearn.feature_extraction.text import TfidfVectorizer"
      ]
    },
    {
      "cell_type": "code",
      "execution_count": 2,
      "metadata": {
        "id": "qfm-sL0_KUl8"
      },
      "outputs": [],
      "source": [
        "import pandas as pd\n",
        "import nltk\n",
        "import matplotlib.pyplot as plt\n",
        "import seaborn as sns"
      ]
    },
    {
      "cell_type": "code",
      "execution_count": 18,
      "metadata": {
        "id": "IJRN_lwWVmeh"
      },
      "outputs": [],
      "source": [
        "import neattext as nt\n",
        "import neattext.functions as nfx\n",
        "from neattext.functions import clean_text "
      ]
    },
    {
      "cell_type": "code",
      "execution_count": null,
      "metadata": {
        "colab": {
          "base_uri": "https://localhost:8080/",
          "height": 39
        },
        "id": "cwgaoB7OOoIJ",
        "outputId": "65822da3-4426-4e5e-d7c9-55914e21fe29"
      },
      "outputs": [
        {
          "data": {
            "text/html": [
              "\n",
              "     <input type=\"file\" id=\"files-c15b6452-c4ba-41b3-88ec-273d464e0c74\" name=\"files[]\" multiple disabled\n",
              "        style=\"border:none\" />\n",
              "     <output id=\"result-c15b6452-c4ba-41b3-88ec-273d464e0c74\">\n",
              "      Upload widget is only available when the cell has been executed in the\n",
              "      current browser session. Please rerun this cell to enable.\n",
              "      </output>\n",
              "      <script>// Copyright 2017 Google LLC\n",
              "//\n",
              "// Licensed under the Apache License, Version 2.0 (the \"License\");\n",
              "// you may not use this file except in compliance with the License.\n",
              "// You may obtain a copy of the License at\n",
              "//\n",
              "//      http://www.apache.org/licenses/LICENSE-2.0\n",
              "//\n",
              "// Unless required by applicable law or agreed to in writing, software\n",
              "// distributed under the License is distributed on an \"AS IS\" BASIS,\n",
              "// WITHOUT WARRANTIES OR CONDITIONS OF ANY KIND, either express or implied.\n",
              "// See the License for the specific language governing permissions and\n",
              "// limitations under the License.\n",
              "\n",
              "/**\n",
              " * @fileoverview Helpers for google.colab Python module.\n",
              " */\n",
              "(function(scope) {\n",
              "function span(text, styleAttributes = {}) {\n",
              "  const element = document.createElement('span');\n",
              "  element.textContent = text;\n",
              "  for (const key of Object.keys(styleAttributes)) {\n",
              "    element.style[key] = styleAttributes[key];\n",
              "  }\n",
              "  return element;\n",
              "}\n",
              "\n",
              "// Max number of bytes which will be uploaded at a time.\n",
              "const MAX_PAYLOAD_SIZE = 100 * 1024;\n",
              "\n",
              "function _uploadFiles(inputId, outputId) {\n",
              "  const steps = uploadFilesStep(inputId, outputId);\n",
              "  const outputElement = document.getElementById(outputId);\n",
              "  // Cache steps on the outputElement to make it available for the next call\n",
              "  // to uploadFilesContinue from Python.\n",
              "  outputElement.steps = steps;\n",
              "\n",
              "  return _uploadFilesContinue(outputId);\n",
              "}\n",
              "\n",
              "// This is roughly an async generator (not supported in the browser yet),\n",
              "// where there are multiple asynchronous steps and the Python side is going\n",
              "// to poll for completion of each step.\n",
              "// This uses a Promise to block the python side on completion of each step,\n",
              "// then passes the result of the previous step as the input to the next step.\n",
              "function _uploadFilesContinue(outputId) {\n",
              "  const outputElement = document.getElementById(outputId);\n",
              "  const steps = outputElement.steps;\n",
              "\n",
              "  const next = steps.next(outputElement.lastPromiseValue);\n",
              "  return Promise.resolve(next.value.promise).then((value) => {\n",
              "    // Cache the last promise value to make it available to the next\n",
              "    // step of the generator.\n",
              "    outputElement.lastPromiseValue = value;\n",
              "    return next.value.response;\n",
              "  });\n",
              "}\n",
              "\n",
              "/**\n",
              " * Generator function which is called between each async step of the upload\n",
              " * process.\n",
              " * @param {string} inputId Element ID of the input file picker element.\n",
              " * @param {string} outputId Element ID of the output display.\n",
              " * @return {!Iterable<!Object>} Iterable of next steps.\n",
              " */\n",
              "function* uploadFilesStep(inputId, outputId) {\n",
              "  const inputElement = document.getElementById(inputId);\n",
              "  inputElement.disabled = false;\n",
              "\n",
              "  const outputElement = document.getElementById(outputId);\n",
              "  outputElement.innerHTML = '';\n",
              "\n",
              "  const pickedPromise = new Promise((resolve) => {\n",
              "    inputElement.addEventListener('change', (e) => {\n",
              "      resolve(e.target.files);\n",
              "    });\n",
              "  });\n",
              "\n",
              "  const cancel = document.createElement('button');\n",
              "  inputElement.parentElement.appendChild(cancel);\n",
              "  cancel.textContent = 'Cancel upload';\n",
              "  const cancelPromise = new Promise((resolve) => {\n",
              "    cancel.onclick = () => {\n",
              "      resolve(null);\n",
              "    };\n",
              "  });\n",
              "\n",
              "  // Wait for the user to pick the files.\n",
              "  const files = yield {\n",
              "    promise: Promise.race([pickedPromise, cancelPromise]),\n",
              "    response: {\n",
              "      action: 'starting',\n",
              "    }\n",
              "  };\n",
              "\n",
              "  cancel.remove();\n",
              "\n",
              "  // Disable the input element since further picks are not allowed.\n",
              "  inputElement.disabled = true;\n",
              "\n",
              "  if (!files) {\n",
              "    return {\n",
              "      response: {\n",
              "        action: 'complete',\n",
              "      }\n",
              "    };\n",
              "  }\n",
              "\n",
              "  for (const file of files) {\n",
              "    const li = document.createElement('li');\n",
              "    li.append(span(file.name, {fontWeight: 'bold'}));\n",
              "    li.append(span(\n",
              "        `(${file.type || 'n/a'}) - ${file.size} bytes, ` +\n",
              "        `last modified: ${\n",
              "            file.lastModifiedDate ? file.lastModifiedDate.toLocaleDateString() :\n",
              "                                    'n/a'} - `));\n",
              "    const percent = span('0% done');\n",
              "    li.appendChild(percent);\n",
              "\n",
              "    outputElement.appendChild(li);\n",
              "\n",
              "    const fileDataPromise = new Promise((resolve) => {\n",
              "      const reader = new FileReader();\n",
              "      reader.onload = (e) => {\n",
              "        resolve(e.target.result);\n",
              "      };\n",
              "      reader.readAsArrayBuffer(file);\n",
              "    });\n",
              "    // Wait for the data to be ready.\n",
              "    let fileData = yield {\n",
              "      promise: fileDataPromise,\n",
              "      response: {\n",
              "        action: 'continue',\n",
              "      }\n",
              "    };\n",
              "\n",
              "    // Use a chunked sending to avoid message size limits. See b/62115660.\n",
              "    let position = 0;\n",
              "    do {\n",
              "      const length = Math.min(fileData.byteLength - position, MAX_PAYLOAD_SIZE);\n",
              "      const chunk = new Uint8Array(fileData, position, length);\n",
              "      position += length;\n",
              "\n",
              "      const base64 = btoa(String.fromCharCode.apply(null, chunk));\n",
              "      yield {\n",
              "        response: {\n",
              "          action: 'append',\n",
              "          file: file.name,\n",
              "          data: base64,\n",
              "        },\n",
              "      };\n",
              "\n",
              "      let percentDone = fileData.byteLength === 0 ?\n",
              "          100 :\n",
              "          Math.round((position / fileData.byteLength) * 100);\n",
              "      percent.textContent = `${percentDone}% done`;\n",
              "\n",
              "    } while (position < fileData.byteLength);\n",
              "  }\n",
              "\n",
              "  // All done.\n",
              "  yield {\n",
              "    response: {\n",
              "      action: 'complete',\n",
              "    }\n",
              "  };\n",
              "}\n",
              "\n",
              "scope.google = scope.google || {};\n",
              "scope.google.colab = scope.google.colab || {};\n",
              "scope.google.colab._files = {\n",
              "  _uploadFiles,\n",
              "  _uploadFilesContinue,\n",
              "};\n",
              "})(self);\n",
              "</script> "
            ],
            "text/plain": [
              "<IPython.core.display.HTML object>"
            ]
          },
          "metadata": {},
          "output_type": "display_data"
        }
      ],
      "source": [
        "from google.colab import files\n",
        "uploaded = files.upload()\n",
        "# not using this but this is an alternative way of importing data"
      ]
    },
    {
      "cell_type": "code",
      "execution_count": null,
      "metadata": {
        "colab": {
          "base_uri": "https://localhost:8080/",
          "height": 487
        },
        "id": "uml_JNVrXTB_",
        "outputId": "fcf27521-c0f6-4306-9a45-674f6e66204e"
      },
      "outputs": [
        {
          "output_type": "execute_result",
          "data": {
            "text/plain": [
              "                                     id  rating              name  \\\n",
              "0  1b381a70-ba04-11ed-b771-a4c3f0856cc6     2.3   Brenda Berrian    \n",
              "1  1bfaf708-ba04-11ed-b4e7-a4c3f0856cc6     4.8  Aaron Bernstine    \n",
              "2  1d0251de-ba04-11ed-8159-a4c3f0856cc6     4.3      Aarti Madan    \n",
              "3  1d31c636-ba04-11ed-a3e8-a4c3f0856cc6     1.6      Abel Franco    \n",
              "4  1d672e1a-ba04-11ed-9f19-a4c3f0856cc6     1.6     Adam Hobaugh    \n",
              "\n",
              "  would_take_again  level_of_difficulty                          department  \\\n",
              "0              NaN                  3.3                  English Department   \n",
              "1             100%                  1.8  Business Administration Department   \n",
              "2              NaN                  3.1                  Spanish Department   \n",
              "3               0%                  4.6               Philosophy Department   \n",
              "4              25%                  4.4         Computer Science Department   \n",
              "\n",
              "                                                 url                 tag0  \\\n",
              "0  https://www.ratemyprofessors.com/professor?tid...                  NaN   \n",
              "1  https://www.ratemyprofessors.com/professor?tid...  Gives good feedback   \n",
              "2  https://www.ratemyprofessors.com/professor?tid...                  NaN   \n",
              "3  https://www.ratemyprofessors.com/professor?tid...         Tough grader   \n",
              "4  https://www.ratemyprofessors.com/professor?tid...         Tough grader   \n",
              "\n",
              "                   tag1               tag2            tag3    tag4  \n",
              "0                   NaN                NaN             NaN     NaN  \n",
              "1             Respected      Inspirational       Hilarious  Caring  \n",
              "2                   NaN                NaN             NaN     NaN  \n",
              "3      Lots of homework  Get ready to read  So many papers     NaN  \n",
              "4  Graded by few things   Lots of homework          Caring     NaN  "
            ],
            "text/html": [
              "<div>\n",
              "<style scoped>\n",
              "    .dataframe tbody tr th:only-of-type {\n",
              "        vertical-align: middle;\n",
              "    }\n",
              "\n",
              "    .dataframe tbody tr th {\n",
              "        vertical-align: top;\n",
              "    }\n",
              "\n",
              "    .dataframe thead th {\n",
              "        text-align: right;\n",
              "    }\n",
              "</style>\n",
              "<table border=\"1\" class=\"dataframe\">\n",
              "  <thead>\n",
              "    <tr style=\"text-align: right;\">\n",
              "      <th></th>\n",
              "      <th>id</th>\n",
              "      <th>rating</th>\n",
              "      <th>name</th>\n",
              "      <th>would_take_again</th>\n",
              "      <th>level_of_difficulty</th>\n",
              "      <th>department</th>\n",
              "      <th>url</th>\n",
              "      <th>tag0</th>\n",
              "      <th>tag1</th>\n",
              "      <th>tag2</th>\n",
              "      <th>tag3</th>\n",
              "      <th>tag4</th>\n",
              "    </tr>\n",
              "  </thead>\n",
              "  <tbody>\n",
              "    <tr>\n",
              "      <th>0</th>\n",
              "      <td>1b381a70-ba04-11ed-b771-a4c3f0856cc6</td>\n",
              "      <td>2.3</td>\n",
              "      <td>Brenda Berrian</td>\n",
              "      <td>NaN</td>\n",
              "      <td>3.3</td>\n",
              "      <td>English Department</td>\n",
              "      <td>https://www.ratemyprofessors.com/professor?tid...</td>\n",
              "      <td>NaN</td>\n",
              "      <td>NaN</td>\n",
              "      <td>NaN</td>\n",
              "      <td>NaN</td>\n",
              "      <td>NaN</td>\n",
              "    </tr>\n",
              "    <tr>\n",
              "      <th>1</th>\n",
              "      <td>1bfaf708-ba04-11ed-b4e7-a4c3f0856cc6</td>\n",
              "      <td>4.8</td>\n",
              "      <td>Aaron Bernstine</td>\n",
              "      <td>100%</td>\n",
              "      <td>1.8</td>\n",
              "      <td>Business Administration Department</td>\n",
              "      <td>https://www.ratemyprofessors.com/professor?tid...</td>\n",
              "      <td>Gives good feedback</td>\n",
              "      <td>Respected</td>\n",
              "      <td>Inspirational</td>\n",
              "      <td>Hilarious</td>\n",
              "      <td>Caring</td>\n",
              "    </tr>\n",
              "    <tr>\n",
              "      <th>2</th>\n",
              "      <td>1d0251de-ba04-11ed-8159-a4c3f0856cc6</td>\n",
              "      <td>4.3</td>\n",
              "      <td>Aarti Madan</td>\n",
              "      <td>NaN</td>\n",
              "      <td>3.1</td>\n",
              "      <td>Spanish Department</td>\n",
              "      <td>https://www.ratemyprofessors.com/professor?tid...</td>\n",
              "      <td>NaN</td>\n",
              "      <td>NaN</td>\n",
              "      <td>NaN</td>\n",
              "      <td>NaN</td>\n",
              "      <td>NaN</td>\n",
              "    </tr>\n",
              "    <tr>\n",
              "      <th>3</th>\n",
              "      <td>1d31c636-ba04-11ed-a3e8-a4c3f0856cc6</td>\n",
              "      <td>1.6</td>\n",
              "      <td>Abel Franco</td>\n",
              "      <td>0%</td>\n",
              "      <td>4.6</td>\n",
              "      <td>Philosophy Department</td>\n",
              "      <td>https://www.ratemyprofessors.com/professor?tid...</td>\n",
              "      <td>Tough grader</td>\n",
              "      <td>Lots of homework</td>\n",
              "      <td>Get ready to read</td>\n",
              "      <td>So many papers</td>\n",
              "      <td>NaN</td>\n",
              "    </tr>\n",
              "    <tr>\n",
              "      <th>4</th>\n",
              "      <td>1d672e1a-ba04-11ed-9f19-a4c3f0856cc6</td>\n",
              "      <td>1.6</td>\n",
              "      <td>Adam Hobaugh</td>\n",
              "      <td>25%</td>\n",
              "      <td>4.4</td>\n",
              "      <td>Computer Science Department</td>\n",
              "      <td>https://www.ratemyprofessors.com/professor?tid...</td>\n",
              "      <td>Tough grader</td>\n",
              "      <td>Graded by few things</td>\n",
              "      <td>Lots of homework</td>\n",
              "      <td>Caring</td>\n",
              "      <td>NaN</td>\n",
              "    </tr>\n",
              "  </tbody>\n",
              "</table>\n",
              "</div>"
            ]
          },
          "metadata": {},
          "execution_count": 8
        }
      ],
      "source": [
        "import csv\n",
        "url = 'https://raw.githubusercontent.com/AlexWang18/data/main/professors.csv'\n",
        "profs = pd.read_csv(url, skip_blank_lines=True, encoding=\"ISO-8859-1\")\n",
        "profs.head()"
      ]
    },
    {
      "cell_type": "code",
      "execution_count": null,
      "metadata": {
        "id": "B2OK9Y_LScFw"
      },
      "outputs": [],
      "source": []
    },
    {
      "cell_type": "code",
      "execution_count": 125,
      "metadata": {
        "colab": {
          "base_uri": "https://localhost:8080/",
          "height": 453
        },
        "id": "QDdHeQOFXfSA",
        "outputId": "4e8b0e50-fdc2-4b5b-9e1c-36f4984f7310"
      },
      "outputs": [
        {
          "output_type": "execute_result",
          "data": {
            "text/plain": [
              "                                     id                               prof_id  \\\n",
              "0  1b3d723a-ba04-11ed-8681-a4c3f0856cc6  1b381a70-ba04-11ed-b771-a4c3f0856cc6   \n",
              "1  1b3e5c10-ba04-11ed-bf24-a4c3f0856cc6  1b381a70-ba04-11ed-b771-a4c3f0856cc6   \n",
              "2  1b3f1f68-ba04-11ed-805a-a4c3f0856cc6  1b381a70-ba04-11ed-b771-a4c3f0856cc6   \n",
              "3  1b3f9482-ba04-11ed-930b-a4c3f0856cc6  1b381a70-ba04-11ed-b771-a4c3f0856cc6   \n",
              "4  1b4030de-ba04-11ed-a97a-a4c3f0856cc6  1b381a70-ba04-11ed-b771-a4c3f0856cc6   \n",
              "\n",
              "   emotion                                            comment       timestamp  \\\n",
              "0    awful  Worst professor I have ever had. Does not list...   Apr 6th, 2014   \n",
              "1    awful  Professor Berrian refuses to hear anyone's opi...   Mar 4th, 2014   \n",
              "2  awesome  At first I was skeptical about her, but she is...  Dec 20th, 2012   \n",
              "3  average  Class content was interesting. She is my least...   Oct 2nd, 2012   \n",
              "4  average  I was very hesitant to take this class after r...  Nov 15th, 2011   \n",
              "\n",
              "        course  thumbs_up  thumbs_down  quality  difficulty  ...  \\\n",
              "0      AFR0242        0.0          0.0      1.0         5.0  ...   \n",
              "1   AFRCNA1655        1.0          0.0      1.5         3.0  ...   \n",
              "2    AFRCN1644        0.0          0.0      4.5         3.0  ...   \n",
              "3      WSP0242        0.0          0.0      3.0         3.0  ...   \n",
              "4    AFRCN0242        0.0          0.0      3.5         2.0  ...   \n",
              "\n",
              "            meta_item1    meta_item2 meta_item3 meta_item4 meta_item5 tag0  \\\n",
              "0             Grade: A  Textbook: No        NaN        NaN        NaN  NaN   \n",
              "1  Grade: Not_Sure_Yet  Textbook: No        NaN        NaN        NaN  NaN   \n",
              "2                  NaN           NaN        NaN        NaN        NaN  NaN   \n",
              "3                  NaN           NaN        NaN        NaN        NaN  NaN   \n",
              "4                  NaN           NaN        NaN        NaN        NaN  NaN   \n",
              "\n",
              "  tag1 tag2 tag3  tag4  \n",
              "0  NaN  NaN  NaN   NaN  \n",
              "1  NaN  NaN  NaN   NaN  \n",
              "2  NaN  NaN  NaN   NaN  \n",
              "3  NaN  NaN  NaN   NaN  \n",
              "4  NaN  NaN  NaN   NaN  \n",
              "\n",
              "[5 rows x 21 columns]"
            ],
            "text/html": [
              "\n",
              "  <div id=\"df-1440f56b-e42c-48cf-aa2f-f465b05d4445\">\n",
              "    <div class=\"colab-df-container\">\n",
              "      <div>\n",
              "<style scoped>\n",
              "    .dataframe tbody tr th:only-of-type {\n",
              "        vertical-align: middle;\n",
              "    }\n",
              "\n",
              "    .dataframe tbody tr th {\n",
              "        vertical-align: top;\n",
              "    }\n",
              "\n",
              "    .dataframe thead th {\n",
              "        text-align: right;\n",
              "    }\n",
              "</style>\n",
              "<table border=\"1\" class=\"dataframe\">\n",
              "  <thead>\n",
              "    <tr style=\"text-align: right;\">\n",
              "      <th></th>\n",
              "      <th>id</th>\n",
              "      <th>prof_id</th>\n",
              "      <th>emotion</th>\n",
              "      <th>comment</th>\n",
              "      <th>timestamp</th>\n",
              "      <th>course</th>\n",
              "      <th>thumbs_up</th>\n",
              "      <th>thumbs_down</th>\n",
              "      <th>quality</th>\n",
              "      <th>difficulty</th>\n",
              "      <th>...</th>\n",
              "      <th>meta_item1</th>\n",
              "      <th>meta_item2</th>\n",
              "      <th>meta_item3</th>\n",
              "      <th>meta_item4</th>\n",
              "      <th>meta_item5</th>\n",
              "      <th>tag0</th>\n",
              "      <th>tag1</th>\n",
              "      <th>tag2</th>\n",
              "      <th>tag3</th>\n",
              "      <th>tag4</th>\n",
              "    </tr>\n",
              "  </thead>\n",
              "  <tbody>\n",
              "    <tr>\n",
              "      <th>0</th>\n",
              "      <td>1b3d723a-ba04-11ed-8681-a4c3f0856cc6</td>\n",
              "      <td>1b381a70-ba04-11ed-b771-a4c3f0856cc6</td>\n",
              "      <td>awful</td>\n",
              "      <td>Worst professor I have ever had. Does not list...</td>\n",
              "      <td>Apr 6th, 2014</td>\n",
              "      <td>AFR0242</td>\n",
              "      <td>0.0</td>\n",
              "      <td>0.0</td>\n",
              "      <td>1.0</td>\n",
              "      <td>5.0</td>\n",
              "      <td>...</td>\n",
              "      <td>Grade: A</td>\n",
              "      <td>Textbook: No</td>\n",
              "      <td>NaN</td>\n",
              "      <td>NaN</td>\n",
              "      <td>NaN</td>\n",
              "      <td>NaN</td>\n",
              "      <td>NaN</td>\n",
              "      <td>NaN</td>\n",
              "      <td>NaN</td>\n",
              "      <td>NaN</td>\n",
              "    </tr>\n",
              "    <tr>\n",
              "      <th>1</th>\n",
              "      <td>1b3e5c10-ba04-11ed-bf24-a4c3f0856cc6</td>\n",
              "      <td>1b381a70-ba04-11ed-b771-a4c3f0856cc6</td>\n",
              "      <td>awful</td>\n",
              "      <td>Professor Berrian refuses to hear anyone's opi...</td>\n",
              "      <td>Mar 4th, 2014</td>\n",
              "      <td>AFRCNA1655</td>\n",
              "      <td>1.0</td>\n",
              "      <td>0.0</td>\n",
              "      <td>1.5</td>\n",
              "      <td>3.0</td>\n",
              "      <td>...</td>\n",
              "      <td>Grade: Not_Sure_Yet</td>\n",
              "      <td>Textbook: No</td>\n",
              "      <td>NaN</td>\n",
              "      <td>NaN</td>\n",
              "      <td>NaN</td>\n",
              "      <td>NaN</td>\n",
              "      <td>NaN</td>\n",
              "      <td>NaN</td>\n",
              "      <td>NaN</td>\n",
              "      <td>NaN</td>\n",
              "    </tr>\n",
              "    <tr>\n",
              "      <th>2</th>\n",
              "      <td>1b3f1f68-ba04-11ed-805a-a4c3f0856cc6</td>\n",
              "      <td>1b381a70-ba04-11ed-b771-a4c3f0856cc6</td>\n",
              "      <td>awesome</td>\n",
              "      <td>At first I was skeptical about her, but she is...</td>\n",
              "      <td>Dec 20th, 2012</td>\n",
              "      <td>AFRCN1644</td>\n",
              "      <td>0.0</td>\n",
              "      <td>0.0</td>\n",
              "      <td>4.5</td>\n",
              "      <td>3.0</td>\n",
              "      <td>...</td>\n",
              "      <td>NaN</td>\n",
              "      <td>NaN</td>\n",
              "      <td>NaN</td>\n",
              "      <td>NaN</td>\n",
              "      <td>NaN</td>\n",
              "      <td>NaN</td>\n",
              "      <td>NaN</td>\n",
              "      <td>NaN</td>\n",
              "      <td>NaN</td>\n",
              "      <td>NaN</td>\n",
              "    </tr>\n",
              "    <tr>\n",
              "      <th>3</th>\n",
              "      <td>1b3f9482-ba04-11ed-930b-a4c3f0856cc6</td>\n",
              "      <td>1b381a70-ba04-11ed-b771-a4c3f0856cc6</td>\n",
              "      <td>average</td>\n",
              "      <td>Class content was interesting. She is my least...</td>\n",
              "      <td>Oct 2nd, 2012</td>\n",
              "      <td>WSP0242</td>\n",
              "      <td>0.0</td>\n",
              "      <td>0.0</td>\n",
              "      <td>3.0</td>\n",
              "      <td>3.0</td>\n",
              "      <td>...</td>\n",
              "      <td>NaN</td>\n",
              "      <td>NaN</td>\n",
              "      <td>NaN</td>\n",
              "      <td>NaN</td>\n",
              "      <td>NaN</td>\n",
              "      <td>NaN</td>\n",
              "      <td>NaN</td>\n",
              "      <td>NaN</td>\n",
              "      <td>NaN</td>\n",
              "      <td>NaN</td>\n",
              "    </tr>\n",
              "    <tr>\n",
              "      <th>4</th>\n",
              "      <td>1b4030de-ba04-11ed-a97a-a4c3f0856cc6</td>\n",
              "      <td>1b381a70-ba04-11ed-b771-a4c3f0856cc6</td>\n",
              "      <td>average</td>\n",
              "      <td>I was very hesitant to take this class after r...</td>\n",
              "      <td>Nov 15th, 2011</td>\n",
              "      <td>AFRCN0242</td>\n",
              "      <td>0.0</td>\n",
              "      <td>0.0</td>\n",
              "      <td>3.5</td>\n",
              "      <td>2.0</td>\n",
              "      <td>...</td>\n",
              "      <td>NaN</td>\n",
              "      <td>NaN</td>\n",
              "      <td>NaN</td>\n",
              "      <td>NaN</td>\n",
              "      <td>NaN</td>\n",
              "      <td>NaN</td>\n",
              "      <td>NaN</td>\n",
              "      <td>NaN</td>\n",
              "      <td>NaN</td>\n",
              "      <td>NaN</td>\n",
              "    </tr>\n",
              "  </tbody>\n",
              "</table>\n",
              "<p>5 rows × 21 columns</p>\n",
              "</div>\n",
              "      <button class=\"colab-df-convert\" onclick=\"convertToInteractive('df-1440f56b-e42c-48cf-aa2f-f465b05d4445')\"\n",
              "              title=\"Convert this dataframe to an interactive table.\"\n",
              "              style=\"display:none;\">\n",
              "        \n",
              "  <svg xmlns=\"http://www.w3.org/2000/svg\" height=\"24px\"viewBox=\"0 0 24 24\"\n",
              "       width=\"24px\">\n",
              "    <path d=\"M0 0h24v24H0V0z\" fill=\"none\"/>\n",
              "    <path d=\"M18.56 5.44l.94 2.06.94-2.06 2.06-.94-2.06-.94-.94-2.06-.94 2.06-2.06.94zm-11 1L8.5 8.5l.94-2.06 2.06-.94-2.06-.94L8.5 2.5l-.94 2.06-2.06.94zm10 10l.94 2.06.94-2.06 2.06-.94-2.06-.94-.94-2.06-.94 2.06-2.06.94z\"/><path d=\"M17.41 7.96l-1.37-1.37c-.4-.4-.92-.59-1.43-.59-.52 0-1.04.2-1.43.59L10.3 9.45l-7.72 7.72c-.78.78-.78 2.05 0 2.83L4 21.41c.39.39.9.59 1.41.59.51 0 1.02-.2 1.41-.59l7.78-7.78 2.81-2.81c.8-.78.8-2.07 0-2.86zM5.41 20L4 18.59l7.72-7.72 1.47 1.35L5.41 20z\"/>\n",
              "  </svg>\n",
              "      </button>\n",
              "      \n",
              "  <style>\n",
              "    .colab-df-container {\n",
              "      display:flex;\n",
              "      flex-wrap:wrap;\n",
              "      gap: 12px;\n",
              "    }\n",
              "\n",
              "    .colab-df-convert {\n",
              "      background-color: #E8F0FE;\n",
              "      border: none;\n",
              "      border-radius: 50%;\n",
              "      cursor: pointer;\n",
              "      display: none;\n",
              "      fill: #1967D2;\n",
              "      height: 32px;\n",
              "      padding: 0 0 0 0;\n",
              "      width: 32px;\n",
              "    }\n",
              "\n",
              "    .colab-df-convert:hover {\n",
              "      background-color: #E2EBFA;\n",
              "      box-shadow: 0px 1px 2px rgba(60, 64, 67, 0.3), 0px 1px 3px 1px rgba(60, 64, 67, 0.15);\n",
              "      fill: #174EA6;\n",
              "    }\n",
              "\n",
              "    [theme=dark] .colab-df-convert {\n",
              "      background-color: #3B4455;\n",
              "      fill: #D2E3FC;\n",
              "    }\n",
              "\n",
              "    [theme=dark] .colab-df-convert:hover {\n",
              "      background-color: #434B5C;\n",
              "      box-shadow: 0px 1px 3px 1px rgba(0, 0, 0, 0.15);\n",
              "      filter: drop-shadow(0px 1px 2px rgba(0, 0, 0, 0.3));\n",
              "      fill: #FFFFFF;\n",
              "    }\n",
              "  </style>\n",
              "\n",
              "      <script>\n",
              "        const buttonEl =\n",
              "          document.querySelector('#df-1440f56b-e42c-48cf-aa2f-f465b05d4445 button.colab-df-convert');\n",
              "        buttonEl.style.display =\n",
              "          google.colab.kernel.accessAllowed ? 'block' : 'none';\n",
              "\n",
              "        async function convertToInteractive(key) {\n",
              "          const element = document.querySelector('#df-1440f56b-e42c-48cf-aa2f-f465b05d4445');\n",
              "          const dataTable =\n",
              "            await google.colab.kernel.invokeFunction('convertToInteractive',\n",
              "                                                     [key], {});\n",
              "          if (!dataTable) return;\n",
              "\n",
              "          const docLinkHtml = 'Like what you see? Visit the ' +\n",
              "            '<a target=\"_blank\" href=https://colab.research.google.com/notebooks/data_table.ipynb>data table notebook</a>'\n",
              "            + ' to learn more about interactive tables.';\n",
              "          element.innerHTML = '';\n",
              "          dataTable['output_type'] = 'display_data';\n",
              "          await google.colab.output.renderOutput(dataTable, element);\n",
              "          const docLink = document.createElement('div');\n",
              "          docLink.innerHTML = docLinkHtml;\n",
              "          element.appendChild(docLink);\n",
              "        }\n",
              "      </script>\n",
              "    </div>\n",
              "  </div>\n",
              "  "
            ]
          },
          "metadata": {},
          "execution_count": 125
        }
      ],
      "source": [
        "url = 'https://raw.githubusercontent.com/sim1029/choose-my-professor/2a2890488e260b17bb8581e3c076e12aab84a707/reviewsISH.csv'\n",
        "reviews = pd.read_csv(url, skip_blank_lines=True, encoding=\"ISO_8859-1\")\n",
        "reviews.head(5)"
      ]
    },
    {
      "cell_type": "code",
      "source": [
        "reviews['course'].nunique()"
      ],
      "metadata": {
        "colab": {
          "base_uri": "https://localhost:8080/"
        },
        "id": "AHOZybzdacVu",
        "outputId": "c26ebae0-fcb6-4000-ff11-3d4ff80a3a32"
      },
      "execution_count": 4,
      "outputs": [
        {
          "output_type": "execute_result",
          "data": {
            "text/plain": [
              "6064"
            ]
          },
          "metadata": {},
          "execution_count": 4
        }
      ]
    },
    {
      "cell_type": "code",
      "source": [
        "reviews['prof_id'].nunique()"
      ],
      "metadata": {
        "colab": {
          "base_uri": "https://localhost:8080/"
        },
        "id": "hjFiYwQvas48",
        "outputId": "ed50c357-9bd7-458d-f3bf-f726d33a4db0"
      },
      "execution_count": 7,
      "outputs": [
        {
          "output_type": "execute_result",
          "data": {
            "text/plain": [
              "1192"
            ]
          },
          "metadata": {},
          "execution_count": 7
        }
      ]
    },
    {
      "cell_type": "code",
      "source": [
        "reviews['prof_id'].value_counts()"
      ],
      "metadata": {
        "colab": {
          "base_uri": "https://localhost:8080/"
        },
        "id": "zcRN56NAbOdm",
        "outputId": "160331a1-cbbb-409c-87ed-da3ff70543d0"
      },
      "execution_count": 8,
      "outputs": [
        {
          "output_type": "execute_result",
          "data": {
            "text/plain": [
              "0d62308a-ba05-11ed-b0b6-a4c3f0856cc6    468\n",
              "4fefb964-ba04-11ed-aeb0-a4c3f0856cc6    411\n",
              "3ab3722e-ba05-11ed-9017-a4c3f0856cc6    325\n",
              "2fd2be24-ba04-11ed-aba4-a4c3f0856cc6    316\n",
              "9feb6950-ba04-11ed-b5b7-a4c3f0856cc6    305\n",
              "                                       ... \n",
              "8de6c8ee-ba05-11ed-a640-a4c3f0856cc6      1\n",
              "5c6272be-ba04-11ed-a9ea-a4c3f0856cc6      1\n",
              "de7f9dde-ba04-11ed-a4f7-a4c3f0856cc6      1\n",
              "74fbe83a-ba05-11ed-bbd9-a4c3f0856cc6      1\n",
              "3f5274f8-ba05-11ed-bae3-a4c3f0856cc6      1\n",
              "Name: prof_id, Length: 1192, dtype: int64"
            ]
          },
          "metadata": {},
          "execution_count": 8
        }
      ]
    },
    {
      "cell_type": "code",
      "source": [
        "reviews['prof_id'].value_counts().median() # median 11 reviews per prof"
      ],
      "metadata": {
        "colab": {
          "base_uri": "https://localhost:8080/"
        },
        "id": "HIiDyUmJbWt2",
        "outputId": "b7952bac-a2e3-4870-b9b0-d5b42780ad46"
      },
      "execution_count": 7,
      "outputs": [
        {
          "output_type": "execute_result",
          "data": {
            "text/plain": [
              "11.0"
            ]
          },
          "metadata": {},
          "execution_count": 7
        }
      ]
    },
    {
      "cell_type": "code",
      "source": [
        "reviews['prof_id'].value_counts().mean()"
      ],
      "metadata": {
        "colab": {
          "base_uri": "https://localhost:8080/"
        },
        "id": "kmO7m0c-1Wct",
        "outputId": "3faf602e-4dd4-4d09-c038-bdd4831c69d0"
      },
      "execution_count": 10,
      "outputs": [
        {
          "output_type": "execute_result",
          "data": {
            "text/plain": [
              "25.11493288590604"
            ]
          },
          "metadata": {},
          "execution_count": 10
        }
      ]
    },
    {
      "cell_type": "code",
      "execution_count": 126,
      "metadata": {
        "colab": {
          "base_uri": "https://localhost:8080/",
          "height": 1000
        },
        "id": "EvLyAzAyL4on",
        "outputId": "cd8d0fea-8b8b-4cf4-87ff-1b5201ca06c8"
      },
      "outputs": [
        {
          "output_type": "execute_result",
          "data": {
            "text/plain": [
              "                                         id  \\\n",
              "19     1c1caf9a-ba04-11ed-ba8d-a4c3f0856cc6   \n",
              "20     1c1dc01e-ba04-11ed-9f47-a4c3f0856cc6   \n",
              "21     1c1ef842-ba04-11ed-908a-a4c3f0856cc6   \n",
              "22     1c1fe27a-ba04-11ed-9116-a4c3f0856cc6   \n",
              "23     1c2141fa-ba04-11ed-ad7f-a4c3f0856cc6   \n",
              "...                                     ...   \n",
              "29912  c1d70f68-ba05-11ed-be58-a4c3f0856cc6   \n",
              "29913  c1d846a2-ba05-11ed-9109-a4c3f0856cc6   \n",
              "29915  c212b928-ba05-11ed-8317-a4c3f0856cc6   \n",
              "29916  c213f176-ba05-11ed-b4da-a4c3f0856cc6   \n",
              "29917  c2159df6-ba05-11ed-9b43-a4c3f0856cc6   \n",
              "\n",
              "                                    prof_id  emotion  \\\n",
              "19     1bfaf708-ba04-11ed-b4e7-a4c3f0856cc6  awesome   \n",
              "20     1bfaf708-ba04-11ed-b4e7-a4c3f0856cc6  awesome   \n",
              "21     1bfaf708-ba04-11ed-b4e7-a4c3f0856cc6  awesome   \n",
              "22     1bfaf708-ba04-11ed-b4e7-a4c3f0856cc6  awesome   \n",
              "23     1bfaf708-ba04-11ed-b4e7-a4c3f0856cc6  awesome   \n",
              "...                                     ...      ...   \n",
              "29912  c1cd245a-ba05-11ed-a2a7-a4c3f0856cc6  awesome   \n",
              "29913  c1cd245a-ba05-11ed-a2a7-a4c3f0856cc6  awesome   \n",
              "29915  c20d1386-ba05-11ed-a9eb-a4c3f0856cc6  awesome   \n",
              "29916  c20d1386-ba05-11ed-a9eb-a4c3f0856cc6  awesome   \n",
              "29917  c20d1386-ba05-11ed-a9eb-a4c3f0856cc6  awesome   \n",
              "\n",
              "                                                 comment       timestamp  \\\n",
              "19     Aaron is a great professor! Show up to class, ...  Oct 10th, 2019   \n",
              "20     This class teaches you about real world busine...  Apr 11th, 2019   \n",
              "21     Very applicable to life. Definitely worth taking!  Apr 11th, 2019   \n",
              "22     The best class anyone at Pitt can take, so man...  Apr 11th, 2019   \n",
              "23     Aaron is one of my favorite professors i have ...  Apr 11th, 2019   \n",
              "...                                                  ...             ...   \n",
              "29912  Yury is a young, soft spoken professor with a ...  Mar 16th, 2017   \n",
              "29913  The class is very difficult, and Yury does an ...  Nov 23rd, 2016   \n",
              "29915  Dr. Destin was fantastic! He was very clear ab...   Oct 7th, 2017   \n",
              "29916  Such a nice guy. I took his class at the Unive...   Nov 7th, 2016   \n",
              "29917  Dr. Destin's Intro to Sociology class was much...  Aug 16th, 2016   \n",
              "\n",
              "            course  thumbs_up  thumbs_down  quality  difficulty  ...  \\\n",
              "19      BUSMKT1422        0.0          0.0      5.0         2.0  ...   \n",
              "20      BUSMKT1425        0.0          0.0      5.0         2.0  ...   \n",
              "21      BUSMKT1425        0.0          0.0      5.0         2.0  ...   \n",
              "22       BUSMK1425        0.0          0.0      5.0         3.0  ...   \n",
              "23      BUSMKT1425        0.0          1.0      5.0         2.0  ...   \n",
              "...            ...        ...          ...      ...         ...  ...   \n",
              "29912     MATH1310        0.0          1.0      4.0         3.0  ...   \n",
              "29913     MATH0230        2.0          0.0      4.0         5.0  ...   \n",
              "29915      SOC1001        0.0          0.0      5.0         2.0  ...   \n",
              "29916      SOC0150        0.0          0.0      5.0         3.0  ...   \n",
              "29917      SOC1001        0.0          0.0      5.0         4.0  ...   \n",
              "\n",
              "                  meta_item2           meta_item3    meta_item4 meta_item5  \\\n",
              "19     Would Take Again: Yes  Grade: Not sure yet  Textbook: No        NaN   \n",
              "20     Would Take Again: Yes         Textbook: No           NaN        NaN   \n",
              "21              Textbook: No                  NaN           NaN        NaN   \n",
              "22     Would Take Again: Yes             Grade: A  Textbook: No        NaN   \n",
              "23     Would Take Again: Yes         Textbook: No           NaN        NaN   \n",
              "...                      ...                  ...           ...        ...   \n",
              "29912  Would Take Again: Yes        Textbook: Yes           NaN        NaN   \n",
              "29913               Grade: C        Textbook: Yes           NaN        NaN   \n",
              "29915               Grade: A        Textbook: Yes           NaN        NaN   \n",
              "29916  Would Take Again: Yes             Grade: A  Textbook: No        NaN   \n",
              "29917           Textbook: No                  NaN           NaN        NaN   \n",
              "\n",
              "                         tag0                         tag1  \\\n",
              "19      Participation matters                Inspirational   \n",
              "20                  Respected       Clear grading criteria   \n",
              "21      Participation matters         Graded by few things   \n",
              "22              Inspirational       Clear grading criteria   \n",
              "23                  Respected             Amazing lectures   \n",
              "...                       ...                          ...   \n",
              "29912  Clear grading criteria                          NaN   \n",
              "29913            Tough Grader  Skip class? You won't pass.   \n",
              "29915     Gives good feedback     ACCESSIBLE OUTSIDE CLASS   \n",
              "29916               Respected       Clear grading criteria   \n",
              "29917     Gives good feedback        Participation matters   \n",
              "\n",
              "                         tag2 tag3 tag4  \\\n",
              "19           Amazing lectures  NaN  NaN   \n",
              "20                  Hilarious  NaN  NaN   \n",
              "21                  Hilarious  NaN  NaN   \n",
              "22              Lecture heavy  NaN  NaN   \n",
              "23                     Caring  NaN  NaN   \n",
              "...                       ...  ...  ...   \n",
              "29912                     NaN  NaN  NaN   \n",
              "29913  Clear grading criteria  NaN  NaN   \n",
              "29915  Clear grading criteria  NaN  NaN   \n",
              "29916                  Caring  NaN  NaN   \n",
              "29917        Amazing lectures  NaN  NaN   \n",
              "\n",
              "                                                combined  \n",
              "19     [Participation matters, Inspirational, Amazing...  \n",
              "20        [Respected, Clear grading criteria, Hilarious]  \n",
              "21     [Participation matters, Graded by few things, ...  \n",
              "22     [Inspirational, Clear grading criteria, Lectur...  \n",
              "23                 [Respected, Amazing lectures, Caring]  \n",
              "...                                                  ...  \n",
              "29912                           [Clear grading criteria]  \n",
              "29913  [Tough Grader, Skip class? You won't pass., Cl...  \n",
              "29915  [Gives good feedback, ACCESSIBLE OUTSIDE CLASS...  \n",
              "29916        [Respected, Clear grading criteria, Caring]  \n",
              "29917  [Gives good feedback, Participation matters, A...  \n",
              "\n",
              "[8999 rows x 22 columns]"
            ],
            "text/html": [
              "\n",
              "  <div id=\"df-0b78690c-9de6-4e65-a088-eca1e431ee0c\">\n",
              "    <div class=\"colab-df-container\">\n",
              "      <div>\n",
              "<style scoped>\n",
              "    .dataframe tbody tr th:only-of-type {\n",
              "        vertical-align: middle;\n",
              "    }\n",
              "\n",
              "    .dataframe tbody tr th {\n",
              "        vertical-align: top;\n",
              "    }\n",
              "\n",
              "    .dataframe thead th {\n",
              "        text-align: right;\n",
              "    }\n",
              "</style>\n",
              "<table border=\"1\" class=\"dataframe\">\n",
              "  <thead>\n",
              "    <tr style=\"text-align: right;\">\n",
              "      <th></th>\n",
              "      <th>id</th>\n",
              "      <th>prof_id</th>\n",
              "      <th>emotion</th>\n",
              "      <th>comment</th>\n",
              "      <th>timestamp</th>\n",
              "      <th>course</th>\n",
              "      <th>thumbs_up</th>\n",
              "      <th>thumbs_down</th>\n",
              "      <th>quality</th>\n",
              "      <th>difficulty</th>\n",
              "      <th>...</th>\n",
              "      <th>meta_item2</th>\n",
              "      <th>meta_item3</th>\n",
              "      <th>meta_item4</th>\n",
              "      <th>meta_item5</th>\n",
              "      <th>tag0</th>\n",
              "      <th>tag1</th>\n",
              "      <th>tag2</th>\n",
              "      <th>tag3</th>\n",
              "      <th>tag4</th>\n",
              "      <th>combined</th>\n",
              "    </tr>\n",
              "  </thead>\n",
              "  <tbody>\n",
              "    <tr>\n",
              "      <th>19</th>\n",
              "      <td>1c1caf9a-ba04-11ed-ba8d-a4c3f0856cc6</td>\n",
              "      <td>1bfaf708-ba04-11ed-b4e7-a4c3f0856cc6</td>\n",
              "      <td>awesome</td>\n",
              "      <td>Aaron is a great professor! Show up to class, ...</td>\n",
              "      <td>Oct 10th, 2019</td>\n",
              "      <td>BUSMKT1422</td>\n",
              "      <td>0.0</td>\n",
              "      <td>0.0</td>\n",
              "      <td>5.0</td>\n",
              "      <td>2.0</td>\n",
              "      <td>...</td>\n",
              "      <td>Would Take Again: Yes</td>\n",
              "      <td>Grade: Not sure yet</td>\n",
              "      <td>Textbook: No</td>\n",
              "      <td>NaN</td>\n",
              "      <td>Participation matters</td>\n",
              "      <td>Inspirational</td>\n",
              "      <td>Amazing lectures</td>\n",
              "      <td>NaN</td>\n",
              "      <td>NaN</td>\n",
              "      <td>[Participation matters, Inspirational, Amazing...</td>\n",
              "    </tr>\n",
              "    <tr>\n",
              "      <th>20</th>\n",
              "      <td>1c1dc01e-ba04-11ed-9f47-a4c3f0856cc6</td>\n",
              "      <td>1bfaf708-ba04-11ed-b4e7-a4c3f0856cc6</td>\n",
              "      <td>awesome</td>\n",
              "      <td>This class teaches you about real world busine...</td>\n",
              "      <td>Apr 11th, 2019</td>\n",
              "      <td>BUSMKT1425</td>\n",
              "      <td>0.0</td>\n",
              "      <td>0.0</td>\n",
              "      <td>5.0</td>\n",
              "      <td>2.0</td>\n",
              "      <td>...</td>\n",
              "      <td>Would Take Again: Yes</td>\n",
              "      <td>Textbook: No</td>\n",
              "      <td>NaN</td>\n",
              "      <td>NaN</td>\n",
              "      <td>Respected</td>\n",
              "      <td>Clear grading criteria</td>\n",
              "      <td>Hilarious</td>\n",
              "      <td>NaN</td>\n",
              "      <td>NaN</td>\n",
              "      <td>[Respected, Clear grading criteria, Hilarious]</td>\n",
              "    </tr>\n",
              "    <tr>\n",
              "      <th>21</th>\n",
              "      <td>1c1ef842-ba04-11ed-908a-a4c3f0856cc6</td>\n",
              "      <td>1bfaf708-ba04-11ed-b4e7-a4c3f0856cc6</td>\n",
              "      <td>awesome</td>\n",
              "      <td>Very applicable to life. Definitely worth taking!</td>\n",
              "      <td>Apr 11th, 2019</td>\n",
              "      <td>BUSMKT1425</td>\n",
              "      <td>0.0</td>\n",
              "      <td>0.0</td>\n",
              "      <td>5.0</td>\n",
              "      <td>2.0</td>\n",
              "      <td>...</td>\n",
              "      <td>Textbook: No</td>\n",
              "      <td>NaN</td>\n",
              "      <td>NaN</td>\n",
              "      <td>NaN</td>\n",
              "      <td>Participation matters</td>\n",
              "      <td>Graded by few things</td>\n",
              "      <td>Hilarious</td>\n",
              "      <td>NaN</td>\n",
              "      <td>NaN</td>\n",
              "      <td>[Participation matters, Graded by few things, ...</td>\n",
              "    </tr>\n",
              "    <tr>\n",
              "      <th>22</th>\n",
              "      <td>1c1fe27a-ba04-11ed-9116-a4c3f0856cc6</td>\n",
              "      <td>1bfaf708-ba04-11ed-b4e7-a4c3f0856cc6</td>\n",
              "      <td>awesome</td>\n",
              "      <td>The best class anyone at Pitt can take, so man...</td>\n",
              "      <td>Apr 11th, 2019</td>\n",
              "      <td>BUSMK1425</td>\n",
              "      <td>0.0</td>\n",
              "      <td>0.0</td>\n",
              "      <td>5.0</td>\n",
              "      <td>3.0</td>\n",
              "      <td>...</td>\n",
              "      <td>Would Take Again: Yes</td>\n",
              "      <td>Grade: A</td>\n",
              "      <td>Textbook: No</td>\n",
              "      <td>NaN</td>\n",
              "      <td>Inspirational</td>\n",
              "      <td>Clear grading criteria</td>\n",
              "      <td>Lecture heavy</td>\n",
              "      <td>NaN</td>\n",
              "      <td>NaN</td>\n",
              "      <td>[Inspirational, Clear grading criteria, Lectur...</td>\n",
              "    </tr>\n",
              "    <tr>\n",
              "      <th>23</th>\n",
              "      <td>1c2141fa-ba04-11ed-ad7f-a4c3f0856cc6</td>\n",
              "      <td>1bfaf708-ba04-11ed-b4e7-a4c3f0856cc6</td>\n",
              "      <td>awesome</td>\n",
              "      <td>Aaron is one of my favorite professors i have ...</td>\n",
              "      <td>Apr 11th, 2019</td>\n",
              "      <td>BUSMKT1425</td>\n",
              "      <td>0.0</td>\n",
              "      <td>1.0</td>\n",
              "      <td>5.0</td>\n",
              "      <td>2.0</td>\n",
              "      <td>...</td>\n",
              "      <td>Would Take Again: Yes</td>\n",
              "      <td>Textbook: No</td>\n",
              "      <td>NaN</td>\n",
              "      <td>NaN</td>\n",
              "      <td>Respected</td>\n",
              "      <td>Amazing lectures</td>\n",
              "      <td>Caring</td>\n",
              "      <td>NaN</td>\n",
              "      <td>NaN</td>\n",
              "      <td>[Respected, Amazing lectures, Caring]</td>\n",
              "    </tr>\n",
              "    <tr>\n",
              "      <th>...</th>\n",
              "      <td>...</td>\n",
              "      <td>...</td>\n",
              "      <td>...</td>\n",
              "      <td>...</td>\n",
              "      <td>...</td>\n",
              "      <td>...</td>\n",
              "      <td>...</td>\n",
              "      <td>...</td>\n",
              "      <td>...</td>\n",
              "      <td>...</td>\n",
              "      <td>...</td>\n",
              "      <td>...</td>\n",
              "      <td>...</td>\n",
              "      <td>...</td>\n",
              "      <td>...</td>\n",
              "      <td>...</td>\n",
              "      <td>...</td>\n",
              "      <td>...</td>\n",
              "      <td>...</td>\n",
              "      <td>...</td>\n",
              "      <td>...</td>\n",
              "    </tr>\n",
              "    <tr>\n",
              "      <th>29912</th>\n",
              "      <td>c1d70f68-ba05-11ed-be58-a4c3f0856cc6</td>\n",
              "      <td>c1cd245a-ba05-11ed-a2a7-a4c3f0856cc6</td>\n",
              "      <td>awesome</td>\n",
              "      <td>Yury is a young, soft spoken professor with a ...</td>\n",
              "      <td>Mar 16th, 2017</td>\n",
              "      <td>MATH1310</td>\n",
              "      <td>0.0</td>\n",
              "      <td>1.0</td>\n",
              "      <td>4.0</td>\n",
              "      <td>3.0</td>\n",
              "      <td>...</td>\n",
              "      <td>Would Take Again: Yes</td>\n",
              "      <td>Textbook: Yes</td>\n",
              "      <td>NaN</td>\n",
              "      <td>NaN</td>\n",
              "      <td>Clear grading criteria</td>\n",
              "      <td>NaN</td>\n",
              "      <td>NaN</td>\n",
              "      <td>NaN</td>\n",
              "      <td>NaN</td>\n",
              "      <td>[Clear grading criteria]</td>\n",
              "    </tr>\n",
              "    <tr>\n",
              "      <th>29913</th>\n",
              "      <td>c1d846a2-ba05-11ed-9109-a4c3f0856cc6</td>\n",
              "      <td>c1cd245a-ba05-11ed-a2a7-a4c3f0856cc6</td>\n",
              "      <td>awesome</td>\n",
              "      <td>The class is very difficult, and Yury does an ...</td>\n",
              "      <td>Nov 23rd, 2016</td>\n",
              "      <td>MATH0230</td>\n",
              "      <td>2.0</td>\n",
              "      <td>0.0</td>\n",
              "      <td>4.0</td>\n",
              "      <td>5.0</td>\n",
              "      <td>...</td>\n",
              "      <td>Grade: C</td>\n",
              "      <td>Textbook: Yes</td>\n",
              "      <td>NaN</td>\n",
              "      <td>NaN</td>\n",
              "      <td>Tough Grader</td>\n",
              "      <td>Skip class? You won't pass.</td>\n",
              "      <td>Clear grading criteria</td>\n",
              "      <td>NaN</td>\n",
              "      <td>NaN</td>\n",
              "      <td>[Tough Grader, Skip class? You won't pass., Cl...</td>\n",
              "    </tr>\n",
              "    <tr>\n",
              "      <th>29915</th>\n",
              "      <td>c212b928-ba05-11ed-8317-a4c3f0856cc6</td>\n",
              "      <td>c20d1386-ba05-11ed-a9eb-a4c3f0856cc6</td>\n",
              "      <td>awesome</td>\n",
              "      <td>Dr. Destin was fantastic! He was very clear ab...</td>\n",
              "      <td>Oct 7th, 2017</td>\n",
              "      <td>SOC1001</td>\n",
              "      <td>0.0</td>\n",
              "      <td>0.0</td>\n",
              "      <td>5.0</td>\n",
              "      <td>2.0</td>\n",
              "      <td>...</td>\n",
              "      <td>Grade: A</td>\n",
              "      <td>Textbook: Yes</td>\n",
              "      <td>NaN</td>\n",
              "      <td>NaN</td>\n",
              "      <td>Gives good feedback</td>\n",
              "      <td>ACCESSIBLE OUTSIDE CLASS</td>\n",
              "      <td>Clear grading criteria</td>\n",
              "      <td>NaN</td>\n",
              "      <td>NaN</td>\n",
              "      <td>[Gives good feedback, ACCESSIBLE OUTSIDE CLASS...</td>\n",
              "    </tr>\n",
              "    <tr>\n",
              "      <th>29916</th>\n",
              "      <td>c213f176-ba05-11ed-b4da-a4c3f0856cc6</td>\n",
              "      <td>c20d1386-ba05-11ed-a9eb-a4c3f0856cc6</td>\n",
              "      <td>awesome</td>\n",
              "      <td>Such a nice guy. I took his class at the Unive...</td>\n",
              "      <td>Nov 7th, 2016</td>\n",
              "      <td>SOC0150</td>\n",
              "      <td>0.0</td>\n",
              "      <td>0.0</td>\n",
              "      <td>5.0</td>\n",
              "      <td>3.0</td>\n",
              "      <td>...</td>\n",
              "      <td>Would Take Again: Yes</td>\n",
              "      <td>Grade: A</td>\n",
              "      <td>Textbook: No</td>\n",
              "      <td>NaN</td>\n",
              "      <td>Respected</td>\n",
              "      <td>Clear grading criteria</td>\n",
              "      <td>Caring</td>\n",
              "      <td>NaN</td>\n",
              "      <td>NaN</td>\n",
              "      <td>[Respected, Clear grading criteria, Caring]</td>\n",
              "    </tr>\n",
              "    <tr>\n",
              "      <th>29917</th>\n",
              "      <td>c2159df6-ba05-11ed-9b43-a4c3f0856cc6</td>\n",
              "      <td>c20d1386-ba05-11ed-a9eb-a4c3f0856cc6</td>\n",
              "      <td>awesome</td>\n",
              "      <td>Dr. Destin's Intro to Sociology class was much...</td>\n",
              "      <td>Aug 16th, 2016</td>\n",
              "      <td>SOC1001</td>\n",
              "      <td>0.0</td>\n",
              "      <td>0.0</td>\n",
              "      <td>5.0</td>\n",
              "      <td>4.0</td>\n",
              "      <td>...</td>\n",
              "      <td>Textbook: No</td>\n",
              "      <td>NaN</td>\n",
              "      <td>NaN</td>\n",
              "      <td>NaN</td>\n",
              "      <td>Gives good feedback</td>\n",
              "      <td>Participation matters</td>\n",
              "      <td>Amazing lectures</td>\n",
              "      <td>NaN</td>\n",
              "      <td>NaN</td>\n",
              "      <td>[Gives good feedback, Participation matters, A...</td>\n",
              "    </tr>\n",
              "  </tbody>\n",
              "</table>\n",
              "<p>8999 rows × 22 columns</p>\n",
              "</div>\n",
              "      <button class=\"colab-df-convert\" onclick=\"convertToInteractive('df-0b78690c-9de6-4e65-a088-eca1e431ee0c')\"\n",
              "              title=\"Convert this dataframe to an interactive table.\"\n",
              "              style=\"display:none;\">\n",
              "        \n",
              "  <svg xmlns=\"http://www.w3.org/2000/svg\" height=\"24px\"viewBox=\"0 0 24 24\"\n",
              "       width=\"24px\">\n",
              "    <path d=\"M0 0h24v24H0V0z\" fill=\"none\"/>\n",
              "    <path d=\"M18.56 5.44l.94 2.06.94-2.06 2.06-.94-2.06-.94-.94-2.06-.94 2.06-2.06.94zm-11 1L8.5 8.5l.94-2.06 2.06-.94-2.06-.94L8.5 2.5l-.94 2.06-2.06.94zm10 10l.94 2.06.94-2.06 2.06-.94-2.06-.94-.94-2.06-.94 2.06-2.06.94z\"/><path d=\"M17.41 7.96l-1.37-1.37c-.4-.4-.92-.59-1.43-.59-.52 0-1.04.2-1.43.59L10.3 9.45l-7.72 7.72c-.78.78-.78 2.05 0 2.83L4 21.41c.39.39.9.59 1.41.59.51 0 1.02-.2 1.41-.59l7.78-7.78 2.81-2.81c.8-.78.8-2.07 0-2.86zM5.41 20L4 18.59l7.72-7.72 1.47 1.35L5.41 20z\"/>\n",
              "  </svg>\n",
              "      </button>\n",
              "      \n",
              "  <style>\n",
              "    .colab-df-container {\n",
              "      display:flex;\n",
              "      flex-wrap:wrap;\n",
              "      gap: 12px;\n",
              "    }\n",
              "\n",
              "    .colab-df-convert {\n",
              "      background-color: #E8F0FE;\n",
              "      border: none;\n",
              "      border-radius: 50%;\n",
              "      cursor: pointer;\n",
              "      display: none;\n",
              "      fill: #1967D2;\n",
              "      height: 32px;\n",
              "      padding: 0 0 0 0;\n",
              "      width: 32px;\n",
              "    }\n",
              "\n",
              "    .colab-df-convert:hover {\n",
              "      background-color: #E2EBFA;\n",
              "      box-shadow: 0px 1px 2px rgba(60, 64, 67, 0.3), 0px 1px 3px 1px rgba(60, 64, 67, 0.15);\n",
              "      fill: #174EA6;\n",
              "    }\n",
              "\n",
              "    [theme=dark] .colab-df-convert {\n",
              "      background-color: #3B4455;\n",
              "      fill: #D2E3FC;\n",
              "    }\n",
              "\n",
              "    [theme=dark] .colab-df-convert:hover {\n",
              "      background-color: #434B5C;\n",
              "      box-shadow: 0px 1px 3px 1px rgba(0, 0, 0, 0.15);\n",
              "      filter: drop-shadow(0px 1px 2px rgba(0, 0, 0, 0.3));\n",
              "      fill: #FFFFFF;\n",
              "    }\n",
              "  </style>\n",
              "\n",
              "      <script>\n",
              "        const buttonEl =\n",
              "          document.querySelector('#df-0b78690c-9de6-4e65-a088-eca1e431ee0c button.colab-df-convert');\n",
              "        buttonEl.style.display =\n",
              "          google.colab.kernel.accessAllowed ? 'block' : 'none';\n",
              "\n",
              "        async function convertToInteractive(key) {\n",
              "          const element = document.querySelector('#df-0b78690c-9de6-4e65-a088-eca1e431ee0c');\n",
              "          const dataTable =\n",
              "            await google.colab.kernel.invokeFunction('convertToInteractive',\n",
              "                                                     [key], {});\n",
              "          if (!dataTable) return;\n",
              "\n",
              "          const docLinkHtml = 'Like what you see? Visit the ' +\n",
              "            '<a target=\"_blank\" href=https://colab.research.google.com/notebooks/data_table.ipynb>data table notebook</a>'\n",
              "            + ' to learn more about interactive tables.';\n",
              "          element.innerHTML = '';\n",
              "          dataTable['output_type'] = 'display_data';\n",
              "          await google.colab.output.renderOutput(dataTable, element);\n",
              "          const docLink = document.createElement('div');\n",
              "          docLink.innerHTML = docLinkHtml;\n",
              "          element.appendChild(docLink);\n",
              "        }\n",
              "      </script>\n",
              "    </div>\n",
              "  </div>\n",
              "  "
            ]
          },
          "metadata": {},
          "execution_count": 126
        }
      ],
      "source": [
        " # have the training set only have those with 1+ tags\n",
        "cols = ['tag0', 'tag1', 'tag2', 'tag3', 'tag4']\n",
        "# if theres atl one non nan value consider it\n",
        "reviews ['combined'] = reviews[cols].apply(lambda row: list(row.dropna()) if row.any() else [], axis=1) \n",
        "reviews[reviews['combined'].map(lambda l: len(l)) > 0]"
      ]
    },
    {
      "cell_type": "code",
      "execution_count": 88,
      "metadata": {
        "colab": {
          "base_uri": "https://localhost:8080/"
        },
        "id": "q6as2PEIZeJE",
        "outputId": "d1512e79-c09d-4e75-d342-312bb0d6efbc"
      },
      "outputs": [
        {
          "output_type": "stream",
          "name": "stdout",
          "text": [
            "23874\n"
          ]
        },
        {
          "output_type": "execute_result",
          "data": {
            "text/plain": [
              "25"
            ]
          },
          "metadata": {},
          "execution_count": 88
        }
      ],
      "source": [
        "# look at the labels\n",
        "tags = []\n",
        "\n",
        "for l in reviews['combined']:\n",
        "  if len(l) > 0:\n",
        "    for tag in l:\n",
        "      tags.append(tag.lower())\n",
        "print(len(tags))\n",
        "len(set(tags))"
      ]
    },
    {
      "cell_type": "code",
      "source": [
        "set(tags)"
      ],
      "metadata": {
        "colab": {
          "base_uri": "https://localhost:8080/"
        },
        "id": "sUjcaeOv-ckS",
        "outputId": "9f099a45-a000-471f-c27b-bd4efb5380da"
      },
      "execution_count": 75,
      "outputs": [
        {
          "output_type": "execute_result",
          "data": {
            "text/plain": [
              "{'accessible outside class',\n",
              " 'amazing lectures',\n",
              " 'amazing lectures ',\n",
              " 'beware of pop quizzes',\n",
              " 'caring',\n",
              " 'clear grading criteria',\n",
              " 'extra credit',\n",
              " 'get ready to read',\n",
              " 'gives good feedback',\n",
              " 'graded by few things',\n",
              " 'group projects',\n",
              " 'hilarious',\n",
              " 'inspirational',\n",
              " 'lecture heavy',\n",
              " 'lots of homework',\n",
              " 'online savvy',\n",
              " 'participation matters',\n",
              " 'respected',\n",
              " \"skip class? you won't pass.\",\n",
              " 'so many papers',\n",
              " 'test heavy',\n",
              " 'tests are tough',\n",
              " 'tests? not many',\n",
              " 'tough grader',\n",
              " 'would take again'}"
            ]
          },
          "metadata": {},
          "execution_count": 75
        }
      ]
    },
    {
      "cell_type": "code",
      "source": [
        "reviews['combined']=reviews['combined'].apply(lambda l: [s.lower() for s in l]) "
      ],
      "metadata": {
        "id": "zOHzd5wq_HKE"
      },
      "execution_count": 127,
      "outputs": []
    },
    {
      "cell_type": "code",
      "execution_count": 89,
      "metadata": {
        "id": "pnm2vJ0naZu9"
      },
      "outputs": [],
      "source": [
        "all_tags = nltk.FreqDist(tags) \n",
        "tags_df = pd.DataFrame({'Tag': list(all_tags.keys()), \n",
        "                              'Count': list(all_tags.values())})"
      ]
    },
    {
      "cell_type": "code",
      "execution_count": 90,
      "metadata": {
        "colab": {
          "base_uri": "https://localhost:8080/",
          "height": 877
        },
        "id": "Q_m6r0Ylbdss",
        "outputId": "5b8153fc-8a41-4194-dec7-8217b19a3673"
      },
      "outputs": [
        {
          "output_type": "display_data",
          "data": {
            "text/plain": [
              "<Figure size 864x1080 with 1 Axes>"
            ],
            "image/png": "[encoded data removed]"
          },
          "metadata": {
            "needs_background": "light"
          }
        }
      ],
      "source": [
        "# frequency of the tags\n",
        "g = tags_df.nlargest(columns=\"Count\", n = 50) \n",
        "plt.figure(figsize=(12,15)) \n",
        "ax = sns.barplot(data=g, x= \"Count\", y=\"Tag\") \n",
        "ax.set(ylabel = 'Count') \n",
        "plt.show()\n",
        "# maybe make 1000 the baseline (get 10 labels that work really well)"
      ]
    },
    {
      "cell_type": "code",
      "execution_count": 128,
      "metadata": {
        "id": "1Y62PnQuYfNI",
        "colab": {
          "base_uri": "https://localhost:8080/"
        },
        "outputId": "20249241-bbe9-4d9b-eb20-7f6ca6964500"
      },
      "outputs": [
        {
          "output_type": "execute_result",
          "data": {
            "text/plain": [
              "8999"
            ]
          },
          "metadata": {},
          "execution_count": 128
        }
      ],
      "source": [
        "# do data cleaning\n",
        "labeled_data = reviews[reviews['combined'].map(lambda l: len(l)) > 0] # take only those that have one tag\n",
        "type(labeled_data['comment'])\n",
        "comments_list = process_text(labeled_data['comment'])\n",
        "len(comments_list)"
      ]
    },
    {
      "cell_type": "code",
      "source": [
        "def process_text(df_col):\n",
        "  comments_list = [str(x).lower() for x in df_col.tolist()]\n",
        "  comments_list = [clean_text(word, puncts=True, stopwords=False) for word in comments_list] # prob dont stem or remove stopwords\n",
        "  return comments_list"
      ],
      "metadata": {
        "id": "urQ_IdJK7_WA"
      },
      "execution_count": 92,
      "outputs": []
    },
    {
      "cell_type": "code",
      "execution_count": 93,
      "metadata": {
        "colab": {
          "base_uri": "https://localhost:8080/"
        },
        "id": "P_RyZ05wUM31",
        "outputId": "2c7fe148-972d-4de2-966c-1adb457dd831"
      },
      "outputs": [
        {
          "output_type": "execute_result",
          "data": {
            "text/plain": [
              "['aaron is a great professor show up to class participate and turn in assignments and youre good',\n",
              " 'this class teaches you about real world business aaron brings in guest speakers from different aspects of business which is super interesting i throughly enjoyed this class which is rare',\n",
              " 'very applicable to life definitely worth taking',\n",
              " 'the best class anyone at pitt can take so many life lessons learned and so much real world experience this class should be required great professor better content take him',\n",
              " 'aaron is one of my favorite professors i have taken in college he brings in real work practices into class which is hard to find he brings in great guest speakers to help teach different dynamics to the class',\n",
              " 'take aaron for any marketing elective his class is laidback but he brings in great people with valuable lessons',\n",
              " 'aaron truly does care about what his students get out of his classes he brings in guest speakers to give professional business perspectives in both the business field and life that greatly help you as a student i couldnt recommend him more a great professor who breaks up the monotony of other professors',\n",
              " 'such a great class only downfall is that its on thursday nights but other than that it is the best and most helpful class',\n",
              " 'aaron cares about getting you ready for the real world he brings in speakers during the semester to educate the class on topics that no other class wont teach you i highly recommend taking this class no matter your major youll greatly benefit from taking this course',\n",
              " 'great man and tons of advice is thrown your way he had the credentials to back it up']"
            ]
          },
          "metadata": {},
          "execution_count": 93
        }
      ],
      "source": [
        "comments_list[:10]"
      ]
    },
    {
      "cell_type": "code",
      "execution_count": 94,
      "metadata": {
        "colab": {
          "base_uri": "https://localhost:8080/",
          "height": 877
        },
        "id": "cG2au0qIX3Z1",
        "outputId": "b00640f7-6e7b-486f-8efd-2227a885d656"
      },
      "outputs": [
        {
          "output_type": "display_data",
          "data": {
            "text/plain": [
              "<Figure size 864x1080 with 1 Axes>"
            ],
            "image/png": "[encoded data removed]"
          },
          "metadata": {
            "needs_background": "light"
          }
        }
      ],
      "source": [
        "def freq_words(x, terms = 30): \n",
        "  all_words = ' '.join([text for text in x]) \n",
        "  all_words = all_words.split() \n",
        "  fdist = nltk.FreqDist(all_words) \n",
        "  words_df = pd.DataFrame({'word':list(fdist.keys()), 'count':list(fdist.values())}) \n",
        "  \n",
        "  # selecting top 20 most frequent words \n",
        "  d = words_df.nlargest(columns=\"count\", n = terms) \n",
        "  \n",
        "  # visualize words and frequencies\n",
        "  plt.figure(figsize=(12,15)) \n",
        "  ax = sns.barplot(data=d, x= \"count\", y = \"word\") \n",
        "  ax.set(ylabel = 'Word') \n",
        "  plt.show()\n",
        "  \n",
        "# print 100 most frequent words \n",
        "freq_words(comments_list, 100)"
      ]
    },
    {
      "cell_type": "code",
      "execution_count": 95,
      "metadata": {
        "id": "qqaKQ1YolOV0"
      },
      "outputs": [],
      "source": [
        "# convert text to features\n",
        "from sklearn.preprocessing import MultiLabelBinarizer\n",
        "\n",
        "multilabel_binarizer = MultiLabelBinarizer()\n",
        "multilabel_binarizer.fit(labeled_data['combined'])\n",
        "\n",
        "target_variables = multilabel_binarizer.transform(labeled_data['combined'])"
      ]
    },
    {
      "cell_type": "code",
      "execution_count": 96,
      "metadata": {
        "id": "eT_Fx8UDgUVj"
      },
      "outputs": [],
      "source": [
        "from sklearn.feature_extraction.text import TfidfVectorizer\n",
        "tfidf_vectorizer = TfidfVectorizer(max_df=0.8, max_features=10000)"
      ]
    },
    {
      "cell_type": "code",
      "execution_count": 97,
      "metadata": {
        "colab": {
          "base_uri": "https://localhost:8080/"
        },
        "id": "PpXmYjO3g3yu",
        "outputId": "32679b22-5cc7-4c61-adaf-497ac5e01a63"
      },
      "outputs": [
        {
          "output_type": "execute_result",
          "data": {
            "text/plain": [
              "['aaron is a great professor show up to class participate and turn in assignments and youre good',\n",
              " 'this class teaches you about real world business aaron brings in guest speakers from different aspects of business which is super interesting i throughly enjoyed this class which is rare',\n",
              " 'very applicable to life definitely worth taking',\n",
              " 'the best class anyone at pitt can take so many life lessons learned and so much real world experience this class should be required great professor better content take him',\n",
              " 'aaron is one of my favorite professors i have taken in college he brings in real work practices into class which is hard to find he brings in great guest speakers to help teach different dynamics to the class',\n",
              " 'take aaron for any marketing elective his class is laidback but he brings in great people with valuable lessons',\n",
              " 'aaron truly does care about what his students get out of his classes he brings in guest speakers to give professional business perspectives in both the business field and life that greatly help you as a student i couldnt recommend him more a great professor who breaks up the monotony of other professors',\n",
              " 'such a great class only downfall is that its on thursday nights but other than that it is the best and most helpful class',\n",
              " 'aaron cares about getting you ready for the real world he brings in speakers during the semester to educate the class on topics that no other class wont teach you i highly recommend taking this class no matter your major youll greatly benefit from taking this course',\n",
              " 'great man and tons of advice is thrown your way he had the credentials to back it up']"
            ]
          },
          "metadata": {},
          "execution_count": 97
        }
      ],
      "source": [
        "comments_list[:10]"
      ]
    },
    {
      "cell_type": "code",
      "execution_count": 129,
      "metadata": {
        "id": "C5cSb9K8gmBw"
      },
      "outputs": [],
      "source": [
        "from sklearn.model_selection import train_test_split\n",
        "xtrain, xval, ytrain, yval = train_test_split(comments_list, target_variables, test_size=0.2, random_state=9)"
      ]
    },
    {
      "cell_type": "code",
      "source": [
        "target_variables"
      ],
      "metadata": {
        "colab": {
          "base_uri": "https://localhost:8080/"
        },
        "id": "XKkXXuyN-NZ3",
        "outputId": "f8a2416f-b8d5-4816-b709-f6fa3c63666c"
      },
      "execution_count": 130,
      "outputs": [
        {
          "output_type": "execute_result",
          "data": {
            "text/plain": [
              "array([[0, 1, 0, ..., 0, 0, 0],\n",
              "       [0, 0, 0, ..., 0, 0, 0],\n",
              "       [0, 0, 0, ..., 0, 0, 0],\n",
              "       ...,\n",
              "       [1, 0, 0, ..., 0, 0, 0],\n",
              "       [0, 0, 0, ..., 0, 0, 0],\n",
              "       [0, 1, 0, ..., 0, 0, 0]])"
            ]
          },
          "metadata": {},
          "execution_count": 130
        }
      ]
    },
    {
      "cell_type": "code",
      "execution_count": 131,
      "metadata": {
        "id": "7nAVWbsyhYSH"
      },
      "outputs": [],
      "source": [
        "# create TF-IDF features (term freq * inverse document freq)\n",
        "xtrain_tfidf = tfidf_vectorizer.fit_transform(xtrain)\n",
        "xval_tfidf = tfidf_vectorizer.transform(xval)"
      ]
    },
    {
      "cell_type": "code",
      "execution_count": 132,
      "metadata": {
        "id": "cgaXmZlvhf5q"
      },
      "outputs": [],
      "source": [
        "from sklearn.linear_model import LogisticRegression\n",
        "\n",
        "# Binary Relevance\n",
        "from sklearn.multiclass import OneVsRestClassifier\n",
        "\n",
        "# Performance metric\n",
        "from sklearn.metrics import f1_score"
      ]
    },
    {
      "cell_type": "code",
      "execution_count": 133,
      "metadata": {
        "colab": {
          "base_uri": "https://localhost:8080/",
          "height": 117
        },
        "id": "w44Dr2nihmuS",
        "outputId": "8d803247-8ac2-4b2e-f238-c7eca61bc95e"
      },
      "outputs": [
        {
          "output_type": "execute_result",
          "data": {
            "text/plain": [
              "OneVsRestClassifier(estimator=LogisticRegression())"
            ],
            "text/html": [
              "<style>#sk-container-id-4 {color: black;background-color: white;}#sk-container-id-4 pre{padding: 0;}#sk-container-id-4 div.sk-toggleable {background-color: white;}#sk-container-id-4 label.sk-toggleable__label {cursor: pointer;display: block;width: 100%;margin-bottom: 0;padding: 0.3em;box-sizing: border-box;text-align: center;}#sk-container-id-4 label.sk-toggleable__label-arrow:before {content: \"▸\";float: left;margin-right: 0.25em;color: #696969;}#sk-container-id-4 label.sk-toggleable__label-arrow:hover:before {color: black;}#sk-container-id-4 div.sk-estimator:hover label.sk-toggleable__label-arrow:before {color: black;}#sk-container-id-4 div.sk-toggleable__content {max-height: 0;max-width: 0;overflow: hidden;text-align: left;background-color: #f0f8ff;}#sk-container-id-4 div.sk-toggleable__content pre {margin: 0.2em;color: black;border-radius: 0.25em;background-color: #f0f8ff;}#sk-container-id-4 input.sk-toggleable__control:checked~div.sk-toggleable__content {max-height: 200px;max-width: 100%;overflow: auto;}#sk-container-id-4 input.sk-toggleable__control:checked~label.sk-toggleable__label-arrow:before {content: \"▾\";}#sk-container-id-4 div.sk-estimator input.sk-toggleable__control:checked~label.sk-toggleable__label {background-color: #d4ebff;}#sk-container-id-4 div.sk-label input.sk-toggleable__control:checked~label.sk-toggleable__label {background-color: #d4ebff;}#sk-container-id-4 input.sk-hidden--visually {border: 0;clip: rect(1px 1px 1px 1px);clip: rect(1px, 1px, 1px, 1px);height: 1px;margin: -1px;overflow: hidden;padding: 0;position: absolute;width: 1px;}#sk-container-id-4 div.sk-estimator {font-family: monospace;background-color: #f0f8ff;border: 1px dotted black;border-radius: 0.25em;box-sizing: border-box;margin-bottom: 0.5em;}#sk-container-id-4 div.sk-estimator:hover {background-color: #d4ebff;}#sk-container-id-4 div.sk-parallel-item::after {content: \"\";width: 100%;border-bottom: 1px solid gray;flex-grow: 1;}#sk-container-id-4 div.sk-label:hover label.sk-toggleable__label {background-color: #d4ebff;}#sk-container-id-4 div.sk-serial::before {content: \"\";position: absolute;border-left: 1px solid gray;box-sizing: border-box;top: 0;bottom: 0;left: 50%;z-index: 0;}#sk-container-id-4 div.sk-serial {display: flex;flex-direction: column;align-items: center;background-color: white;padding-right: 0.2em;padding-left: 0.2em;position: relative;}#sk-container-id-4 div.sk-item {position: relative;z-index: 1;}#sk-container-id-4 div.sk-parallel {display: flex;align-items: stretch;justify-content: center;background-color: white;position: relative;}#sk-container-id-4 div.sk-item::before, #sk-container-id-4 div.sk-parallel-item::before {content: \"\";position: absolute;border-left: 1px solid gray;box-sizing: border-box;top: 0;bottom: 0;left: 50%;z-index: -1;}#sk-container-id-4 div.sk-parallel-item {display: flex;flex-direction: column;z-index: 1;position: relative;background-color: white;}#sk-container-id-4 div.sk-parallel-item:first-child::after {align-self: flex-end;width: 50%;}#sk-container-id-4 div.sk-parallel-item:last-child::after {align-self: flex-start;width: 50%;}#sk-container-id-4 div.sk-parallel-item:only-child::after {width: 0;}#sk-container-id-4 div.sk-dashed-wrapped {border: 1px dashed gray;margin: 0 0.4em 0.5em 0.4em;box-sizing: border-box;padding-bottom: 0.4em;background-color: white;}#sk-container-id-4 div.sk-label label {font-family: monospace;font-weight: bold;display: inline-block;line-height: 1.2em;}#sk-container-id-4 div.sk-label-container {text-align: center;}#sk-container-id-4 div.sk-container {/* jupyter's `normalize.less` sets `[hidden] { display: none; }` but bootstrap.min.css set `[hidden] { display: none !important; }` so we also need the `!important` here to be able to override the default hidden behavior on the sphinx rendered scikit-learn.org. See: https://github.com/scikit-learn/scikit-learn/issues/21755 */display: inline-block !important;position: relative;}#sk-container-id-4 div.sk-text-repr-fallback {display: none;}</style><div id=\"sk-container-id-4\" class=\"sk-top-container\"><div class=\"sk-text-repr-fallback\"><pre>OneVsRestClassifier(estimator=LogisticRegression())</pre><b>In a Jupyter environment, please rerun this cell to show the HTML representation or trust the notebook. <br />On GitHub, the HTML representation is unable to render, please try loading this page with nbviewer.org.</b></div><div class=\"sk-container\" hidden><div class=\"sk-item sk-dashed-wrapped\"><div class=\"sk-label-container\"><div class=\"sk-label sk-toggleable\"><input class=\"sk-toggleable__control sk-hidden--visually\" id=\"sk-estimator-id-10\" type=\"checkbox\" ><label for=\"sk-estimator-id-10\" class=\"sk-toggleable__label sk-toggleable__label-arrow\">OneVsRestClassifier</label><div class=\"sk-toggleable__content\"><pre>OneVsRestClassifier(estimator=LogisticRegression())</pre></div></div></div><div class=\"sk-parallel\"><div class=\"sk-parallel-item\"><div class=\"sk-item\"><div class=\"sk-label-container\"><div class=\"sk-label sk-toggleable\"><input class=\"sk-toggleable__control sk-hidden--visually\" id=\"sk-estimator-id-11\" type=\"checkbox\" ><label for=\"sk-estimator-id-11\" class=\"sk-toggleable__label sk-toggleable__label-arrow\">estimator: LogisticRegression</label><div class=\"sk-toggleable__content\"><pre>LogisticRegression()</pre></div></div></div><div class=\"sk-serial\"><div class=\"sk-item\"><div class=\"sk-estimator sk-toggleable\"><input class=\"sk-toggleable__control sk-hidden--visually\" id=\"sk-estimator-id-12\" type=\"checkbox\" ><label for=\"sk-estimator-id-12\" class=\"sk-toggleable__label sk-toggleable__label-arrow\">LogisticRegression</label><div class=\"sk-toggleable__content\"><pre>LogisticRegression()</pre></div></div></div></div></div></div></div></div></div></div>"
            ]
          },
          "metadata": {},
          "execution_count": 133
        }
      ],
      "source": [
        "lr = LogisticRegression()\n",
        "clf = OneVsRestClassifier(lr)\n",
        "clf.fit(xtrain_tfidf, ytrain)"
      ]
    },
    {
      "cell_type": "code",
      "execution_count": 134,
      "metadata": {
        "id": "-NOeFC6Rh4cz"
      },
      "outputs": [],
      "source": [
        "# make predictions for validation set\n",
        "y_pred = clf.predict(xval_tfidf)"
      ]
    },
    {
      "cell_type": "code",
      "execution_count": 135,
      "metadata": {
        "id": "UO2pNVdr0tJQ"
      },
      "outputs": [],
      "source": [
        "#type(y_pred)\n",
        "multilabel_binarizer.inverse_transform(y_pred)[9]\n",
        "count_not_labeled = 0\n",
        "count_labeled = 0\n",
        "for i, a in enumerate(y_pred):\n",
        "  pred = multilabel_binarizer.inverse_transform(y_pred)[i]\n",
        "  if len(pred) > 0:\n",
        "    #print(pred)\n",
        "    count_labeled += 1\n",
        "  else:\n",
        "    count_not_labeled += 1"
      ]
    },
    {
      "cell_type": "code",
      "source": [
        "print(count_not_labeled) # with .5 thresh\n",
        "print(count_labeled)"
      ],
      "metadata": {
        "colab": {
          "base_uri": "https://localhost:8080/"
        },
        "id": "vzKMklG0LCNb",
        "outputId": "243077c1-e9e7-4bf3-82dd-f09d1fd0e119"
      },
      "execution_count": 136,
      "outputs": [
        {
          "output_type": "stream",
          "name": "stdout",
          "text": [
            "1310\n",
            "490\n"
          ]
        }
      ]
    },
    {
      "cell_type": "code",
      "execution_count": 137,
      "metadata": {
        "colab": {
          "base_uri": "https://localhost:8080/"
        },
        "id": "PEzZ5roYh8l9",
        "outputId": "ea43e3aa-647c-4978-f571-0b91d2e4794d"
      },
      "outputs": [
        {
          "output_type": "execute_result",
          "data": {
            "text/plain": [
              "0.13390049935269097"
            ]
          },
          "metadata": {},
          "execution_count": 137
        }
      ],
      "source": [
        "f1_score(yval, y_pred, average=\"micro\")"
      ]
    },
    {
      "cell_type": "code",
      "execution_count": 138,
      "metadata": {
        "colab": {
          "base_uri": "https://localhost:8080/"
        },
        "id": "b7FJGVZpi2kE",
        "outputId": "5c8788c4-bdf6-4a9e-8230-b73643c76b84"
      },
      "outputs": [
        {
          "output_type": "execute_result",
          "data": {
            "text/plain": [
              "0.41058833291843"
            ]
          },
          "metadata": {},
          "execution_count": 138
        }
      ],
      "source": [
        "y_pred_prob = clf.predict_proba(xval_tfidf)\n",
        "\n",
        "\n",
        "t = 0.2 # threshold value\n",
        "y_pred_new = (y_pred_prob >= t).astype(int)\n",
        "\n",
        "\n",
        "# evaluate performance\n",
        "f1_score(yval, y_pred_new, average=\"micro\")"
      ]
    },
    {
      "cell_type": "code",
      "source": [
        "def infer_tags(q):\n",
        "    q = clean_text(q)\n",
        "    q_vec = tfidf_vectorizer.transform([q])\n",
        "    q_pred = (clf.predict_proba(q_vec) >= 0.2).astype(bool)\n",
        "    return multilabel_binarizer.inverse_transform(q_pred)"
      ],
      "metadata": {
        "id": "lV2pdkbkMJke"
      },
      "execution_count": 139,
      "outputs": []
    },
    {
      "cell_type": "code",
      "source": [
        "infer_tags(\"this class sucked, was very lecture heavy. teacher requires attendence, i would not recommend. super inspirational and caring but lots of homework. respected\")"
      ],
      "metadata": {
        "colab": {
          "base_uri": "https://localhost:8080/"
        },
        "id": "NmYg2V63MXr8",
        "outputId": "3df80c5a-5f6b-4bbd-c6f1-08760dd2ad61"
      },
      "execution_count": 140,
      "outputs": [
        {
          "output_type": "execute_result",
          "data": {
            "text/plain": [
              "[('caring', 'lots of homework', 'respected')]"
            ]
          },
          "metadata": {},
          "execution_count": 140
        }
      ]
    },
    {
      "cell_type": "code",
      "source": [
        "new_reviews = reviews.copy()"
      ],
      "metadata": {
        "id": "FtfNDgxLEZZx"
      },
      "execution_count": 141,
      "outputs": []
    },
    {
      "cell_type": "code",
      "source": [
        "count = 0\n",
        "result = []\n",
        "cleaned = process_text(reviews['comment']) \n",
        "print(cleaned[:10])\n",
        "for i, row in enumerate(reviews['combined']):\n",
        "  if row == []:\n",
        "    count+=1 \n",
        "    inferred = infer_tags(cleaned[i])\n",
        "    result.append((i,inferred))\n",
        "    new_reviews['combined'][i] = inferred # replace\n",
        "\n",
        "# 20938 unlabeled in original data"
      ],
      "metadata": {
        "id": "9OGQHpp3MjQK",
        "colab": {
          "base_uri": "https://localhost:8080/"
        },
        "outputId": "9fcdd6c8-ed39-4c9c-9b2f-2d686a7c4ec6"
      },
      "execution_count": 143,
      "outputs": [
        {
          "output_type": "stream",
          "name": "stdout",
          "text": [
            "['worst professor i have ever had does not listen to anybody and always has to be right extremely rude to students and acts prejudiced do not take this class', 'professor berrian refuses to hear anyones opinions other than her own she wont acknowledge that she is wrong even when its proven that she is and she speaks to you like an idiot if you disagree with her she also grades only on grammar regardless of the content of the assignment dont take a class with her unless you have to', 'at first i was skeptical about her but she is a very knowledgeable women and if you do the readings and participate in discussion youre golden she challenged me like no other teacher has and to her im thankful dont expect an easy a go to class pay attention and do your work and youre good to go', 'class content was interesting she is my least favorite professor at the university of pittsburgh she is arrogant and not willing to take the time to actually listen to the students she grades for participation but doesnt even know our names she doesnt want to to help and makes you feel uncomfortable when asking questions', 'i was very hesitant to take this class after reading the comments but prof berrian actually was a good teacher she was very knowledgeable about the topics and was very funny too you can tell she is very worldly the class had a lot of reading but they werent too challenging of books', 'after reading other comments i was hesitant to take the class with prof berrian pros: the class is easy straightforward and has interesting content cons: prof berrian is definitely particular and some of the comments below are true ie: she will not admit when shes wrong or doesnt know about something definitely easy a though', 'only take this class if you are an extremely good writer she grades very hard and you must read all the books and come to class prepared to discuss or shell murder you i would take it if you have the time to dedicate to it i wish someone had told me how extremely hard she grades i got a b+ but went to office hrs all the time redid my papers', 'she was a grammar nazi i swear nothing i fixed was ever right i had no idea what she wanted out of me made me feel like i was a horrible writer even though i did great on my sats she was nice in class but sometimes i wondered if she was going to blowok classjust be very carefully', 'horrible that is all i can say about this woman she gives you a syllabus with dates for when chapters need to be done then gets mad when you dont have the whole book read because thats what you should do will never admit she is wrong overall i wish i would have followed others opinions when i enrolled i would never take her again waste of $', 'seems like she grades more on grammar than the actual subject she talks way too much she doesnt tell you why you got things wrong not an easy a']\n"
          ]
        },
        {
          "output_type": "stream",
          "name": "stderr",
          "text": [
            "<ipython-input-143-92e71b353bfd>:10: SettingWithCopyWarning: \n",
            "A value is trying to be set on a copy of a slice from a DataFrame\n",
            "\n",
            "See the caveats in the documentation: https://pandas.pydata.org/pandas-docs/stable/user_guide/indexing.html#returning-a-view-versus-a-copy\n",
            "  new_reviews['combined'][i] = inferred # replace\n"
          ]
        }
      ]
    },
    {
      "cell_type": "code",
      "source": [
        "count"
      ],
      "metadata": {
        "colab": {
          "base_uri": "https://localhost:8080/"
        },
        "id": "xlxUTvxhER4h",
        "outputId": "136a548f-0284-4e7e-f28a-0842a8a551dc"
      },
      "execution_count": 145,
      "outputs": [
        {
          "output_type": "execute_result",
          "data": {
            "text/plain": [
              "20938"
            ]
          },
          "metadata": {},
          "execution_count": 145
        }
      ]
    },
    {
      "cell_type": "code",
      "source": [
        "result[:10]"
      ],
      "metadata": {
        "id": "ahmWa8oPPG-g",
        "colab": {
          "base_uri": "https://localhost:8080/"
        },
        "outputId": "b8d71ae2-20ea-4fef-bedc-e8e9e05dac60"
      },
      "execution_count": 146,
      "outputs": [
        {
          "output_type": "execute_result",
          "data": {
            "text/plain": [
              "[(0,\n",
              "  [('graded by few things',\n",
              "    'lecture heavy',\n",
              "    \"skip class? you won't pass.\",\n",
              "    'test heavy',\n",
              "    'tough grader')]),\n",
              " (1, [('tough grader',)]),\n",
              " (2, [('caring', 'get ready to read', 'participation matters')]),\n",
              " (3, [('participation matters', 'tough grader')]),\n",
              " (4, [('caring', 'get ready to read', 'respected')]),\n",
              " (5, [('respected',)]),\n",
              " (6,\n",
              "  [('graded by few things', \"skip class? you won't pass.\", 'tough grader')]),\n",
              " (7, [()]),\n",
              " (8, [('get ready to read', 'lecture heavy', 'test heavy', 'tough grader')]),\n",
              " (9, [('graded by few things', 'lecture heavy', 'tough grader')])]"
            ]
          },
          "metadata": {},
          "execution_count": 146
        }
      ]
    },
    {
      "cell_type": "code",
      "source": [
        "new_reviews.head()"
      ],
      "metadata": {
        "colab": {
          "base_uri": "https://localhost:8080/",
          "height": 505
        },
        "id": "GchCwuwe67Ke",
        "outputId": "6e99b865-00c0-456e-f54b-f395e9175167"
      },
      "execution_count": 151,
      "outputs": [
        {
          "output_type": "execute_result",
          "data": {
            "text/plain": [
              "                                     id                               prof_id  \\\n",
              "0  1b3d723a-ba04-11ed-8681-a4c3f0856cc6  1b381a70-ba04-11ed-b771-a4c3f0856cc6   \n",
              "1  1b3e5c10-ba04-11ed-bf24-a4c3f0856cc6  1b381a70-ba04-11ed-b771-a4c3f0856cc6   \n",
              "2  1b3f1f68-ba04-11ed-805a-a4c3f0856cc6  1b381a70-ba04-11ed-b771-a4c3f0856cc6   \n",
              "3  1b3f9482-ba04-11ed-930b-a4c3f0856cc6  1b381a70-ba04-11ed-b771-a4c3f0856cc6   \n",
              "4  1b4030de-ba04-11ed-a97a-a4c3f0856cc6  1b381a70-ba04-11ed-b771-a4c3f0856cc6   \n",
              "\n",
              "   emotion                                            comment       timestamp  \\\n",
              "0    awful  Worst professor I have ever had. Does not list...   Apr 6th, 2014   \n",
              "1    awful  Professor Berrian refuses to hear anyone's opi...   Mar 4th, 2014   \n",
              "2  awesome  At first I was skeptical about her, but she is...  Dec 20th, 2012   \n",
              "3  average  Class content was interesting. She is my least...   Oct 2nd, 2012   \n",
              "4  average  I was very hesitant to take this class after r...  Nov 15th, 2011   \n",
              "\n",
              "        course  thumbs_up  thumbs_down  quality  difficulty  ...  \\\n",
              "0      AFR0242        0.0          0.0      1.0         5.0  ...   \n",
              "1   AFRCNA1655        1.0          0.0      1.5         3.0  ...   \n",
              "2    AFRCN1644        0.0          0.0      4.5         3.0  ...   \n",
              "3      WSP0242        0.0          0.0      3.0         3.0  ...   \n",
              "4    AFRCN0242        0.0          0.0      3.5         2.0  ...   \n",
              "\n",
              "     meta_item2 meta_item3 meta_item4 meta_item5 tag0 tag1 tag2 tag3 tag4  \\\n",
              "0  Textbook: No        NaN        NaN        NaN  NaN  NaN  NaN  NaN  NaN   \n",
              "1  Textbook: No        NaN        NaN        NaN  NaN  NaN  NaN  NaN  NaN   \n",
              "2           NaN        NaN        NaN        NaN  NaN  NaN  NaN  NaN  NaN   \n",
              "3           NaN        NaN        NaN        NaN  NaN  NaN  NaN  NaN  NaN   \n",
              "4           NaN        NaN        NaN        NaN  NaN  NaN  NaN  NaN  NaN   \n",
              "\n",
              "                                            combined  \n",
              "0  [(graded by few things, lecture heavy, skip cl...  \n",
              "1                                  [(tough grader,)]  \n",
              "2  [(caring, get ready to read, participation mat...  \n",
              "3            [(participation matters, tough grader)]  \n",
              "4           [(caring, get ready to read, respected)]  \n",
              "\n",
              "[5 rows x 22 columns]"
            ],
            "text/html": [
              "\n",
              "  <div id=\"df-2fde3567-ceea-433b-a1fd-d89d034bbc2b\">\n",
              "    <div class=\"colab-df-container\">\n",
              "      <div>\n",
              "<style scoped>\n",
              "    .dataframe tbody tr th:only-of-type {\n",
              "        vertical-align: middle;\n",
              "    }\n",
              "\n",
              "    .dataframe tbody tr th {\n",
              "        vertical-align: top;\n",
              "    }\n",
              "\n",
              "    .dataframe thead th {\n",
              "        text-align: right;\n",
              "    }\n",
              "</style>\n",
              "<table border=\"1\" class=\"dataframe\">\n",
              "  <thead>\n",
              "    <tr style=\"text-align: right;\">\n",
              "      <th></th>\n",
              "      <th>id</th>\n",
              "      <th>prof_id</th>\n",
              "      <th>emotion</th>\n",
              "      <th>comment</th>\n",
              "      <th>timestamp</th>\n",
              "      <th>course</th>\n",
              "      <th>thumbs_up</th>\n",
              "      <th>thumbs_down</th>\n",
              "      <th>quality</th>\n",
              "      <th>difficulty</th>\n",
              "      <th>...</th>\n",
              "      <th>meta_item2</th>\n",
              "      <th>meta_item3</th>\n",
              "      <th>meta_item4</th>\n",
              "      <th>meta_item5</th>\n",
              "      <th>tag0</th>\n",
              "      <th>tag1</th>\n",
              "      <th>tag2</th>\n",
              "      <th>tag3</th>\n",
              "      <th>tag4</th>\n",
              "      <th>combined</th>\n",
              "    </tr>\n",
              "  </thead>\n",
              "  <tbody>\n",
              "    <tr>\n",
              "      <th>0</th>\n",
              "      <td>1b3d723a-ba04-11ed-8681-a4c3f0856cc6</td>\n",
              "      <td>1b381a70-ba04-11ed-b771-a4c3f0856cc6</td>\n",
              "      <td>awful</td>\n",
              "      <td>Worst professor I have ever had. Does not list...</td>\n",
              "      <td>Apr 6th, 2014</td>\n",
              "      <td>AFR0242</td>\n",
              "      <td>0.0</td>\n",
              "      <td>0.0</td>\n",
              "      <td>1.0</td>\n",
              "      <td>5.0</td>\n",
              "      <td>...</td>\n",
              "      <td>Textbook: No</td>\n",
              "      <td>NaN</td>\n",
              "      <td>NaN</td>\n",
              "      <td>NaN</td>\n",
              "      <td>NaN</td>\n",
              "      <td>NaN</td>\n",
              "      <td>NaN</td>\n",
              "      <td>NaN</td>\n",
              "      <td>NaN</td>\n",
              "      <td>[(graded by few things, lecture heavy, skip cl...</td>\n",
              "    </tr>\n",
              "    <tr>\n",
              "      <th>1</th>\n",
              "      <td>1b3e5c10-ba04-11ed-bf24-a4c3f0856cc6</td>\n",
              "      <td>1b381a70-ba04-11ed-b771-a4c3f0856cc6</td>\n",
              "      <td>awful</td>\n",
              "      <td>Professor Berrian refuses to hear anyone's opi...</td>\n",
              "      <td>Mar 4th, 2014</td>\n",
              "      <td>AFRCNA1655</td>\n",
              "      <td>1.0</td>\n",
              "      <td>0.0</td>\n",
              "      <td>1.5</td>\n",
              "      <td>3.0</td>\n",
              "      <td>...</td>\n",
              "      <td>Textbook: No</td>\n",
              "      <td>NaN</td>\n",
              "      <td>NaN</td>\n",
              "      <td>NaN</td>\n",
              "      <td>NaN</td>\n",
              "      <td>NaN</td>\n",
              "      <td>NaN</td>\n",
              "      <td>NaN</td>\n",
              "      <td>NaN</td>\n",
              "      <td>[(tough grader,)]</td>\n",
              "    </tr>\n",
              "    <tr>\n",
              "      <th>2</th>\n",
              "      <td>1b3f1f68-ba04-11ed-805a-a4c3f0856cc6</td>\n",
              "      <td>1b381a70-ba04-11ed-b771-a4c3f0856cc6</td>\n",
              "      <td>awesome</td>\n",
              "      <td>At first I was skeptical about her, but she is...</td>\n",
              "      <td>Dec 20th, 2012</td>\n",
              "      <td>AFRCN1644</td>\n",
              "      <td>0.0</td>\n",
              "      <td>0.0</td>\n",
              "      <td>4.5</td>\n",
              "      <td>3.0</td>\n",
              "      <td>...</td>\n",
              "      <td>NaN</td>\n",
              "      <td>NaN</td>\n",
              "      <td>NaN</td>\n",
              "      <td>NaN</td>\n",
              "      <td>NaN</td>\n",
              "      <td>NaN</td>\n",
              "      <td>NaN</td>\n",
              "      <td>NaN</td>\n",
              "      <td>NaN</td>\n",
              "      <td>[(caring, get ready to read, participation mat...</td>\n",
              "    </tr>\n",
              "    <tr>\n",
              "      <th>3</th>\n",
              "      <td>1b3f9482-ba04-11ed-930b-a4c3f0856cc6</td>\n",
              "      <td>1b381a70-ba04-11ed-b771-a4c3f0856cc6</td>\n",
              "      <td>average</td>\n",
              "      <td>Class content was interesting. She is my least...</td>\n",
              "      <td>Oct 2nd, 2012</td>\n",
              "      <td>WSP0242</td>\n",
              "      <td>0.0</td>\n",
              "      <td>0.0</td>\n",
              "      <td>3.0</td>\n",
              "      <td>3.0</td>\n",
              "      <td>...</td>\n",
              "      <td>NaN</td>\n",
              "      <td>NaN</td>\n",
              "      <td>NaN</td>\n",
              "      <td>NaN</td>\n",
              "      <td>NaN</td>\n",
              "      <td>NaN</td>\n",
              "      <td>NaN</td>\n",
              "      <td>NaN</td>\n",
              "      <td>NaN</td>\n",
              "      <td>[(participation matters, tough grader)]</td>\n",
              "    </tr>\n",
              "    <tr>\n",
              "      <th>4</th>\n",
              "      <td>1b4030de-ba04-11ed-a97a-a4c3f0856cc6</td>\n",
              "      <td>1b381a70-ba04-11ed-b771-a4c3f0856cc6</td>\n",
              "      <td>average</td>\n",
              "      <td>I was very hesitant to take this class after r...</td>\n",
              "      <td>Nov 15th, 2011</td>\n",
              "      <td>AFRCN0242</td>\n",
              "      <td>0.0</td>\n",
              "      <td>0.0</td>\n",
              "      <td>3.5</td>\n",
              "      <td>2.0</td>\n",
              "      <td>...</td>\n",
              "      <td>NaN</td>\n",
              "      <td>NaN</td>\n",
              "      <td>NaN</td>\n",
              "      <td>NaN</td>\n",
              "      <td>NaN</td>\n",
              "      <td>NaN</td>\n",
              "      <td>NaN</td>\n",
              "      <td>NaN</td>\n",
              "      <td>NaN</td>\n",
              "      <td>[(caring, get ready to read, respected)]</td>\n",
              "    </tr>\n",
              "  </tbody>\n",
              "</table>\n",
              "<p>5 rows × 22 columns</p>\n",
              "</div>\n",
              "      <button class=\"colab-df-convert\" onclick=\"convertToInteractive('df-2fde3567-ceea-433b-a1fd-d89d034bbc2b')\"\n",
              "              title=\"Convert this dataframe to an interactive table.\"\n",
              "              style=\"display:none;\">\n",
              "        \n",
              "  <svg xmlns=\"http://www.w3.org/2000/svg\" height=\"24px\"viewBox=\"0 0 24 24\"\n",
              "       width=\"24px\">\n",
              "    <path d=\"M0 0h24v24H0V0z\" fill=\"none\"/>\n",
              "    <path d=\"M18.56 5.44l.94 2.06.94-2.06 2.06-.94-2.06-.94-.94-2.06-.94 2.06-2.06.94zm-11 1L8.5 8.5l.94-2.06 2.06-.94-2.06-.94L8.5 2.5l-.94 2.06-2.06.94zm10 10l.94 2.06.94-2.06 2.06-.94-2.06-.94-.94-2.06-.94 2.06-2.06.94z\"/><path d=\"M17.41 7.96l-1.37-1.37c-.4-.4-.92-.59-1.43-.59-.52 0-1.04.2-1.43.59L10.3 9.45l-7.72 7.72c-.78.78-.78 2.05 0 2.83L4 21.41c.39.39.9.59 1.41.59.51 0 1.02-.2 1.41-.59l7.78-7.78 2.81-2.81c.8-.78.8-2.07 0-2.86zM5.41 20L4 18.59l7.72-7.72 1.47 1.35L5.41 20z\"/>\n",
              "  </svg>\n",
              "      </button>\n",
              "      \n",
              "  <style>\n",
              "    .colab-df-container {\n",
              "      display:flex;\n",
              "      flex-wrap:wrap;\n",
              "      gap: 12px;\n",
              "    }\n",
              "\n",
              "    .colab-df-convert {\n",
              "      background-color: #E8F0FE;\n",
              "      border: none;\n",
              "      border-radius: 50%;\n",
              "      cursor: pointer;\n",
              "      display: none;\n",
              "      fill: #1967D2;\n",
              "      height: 32px;\n",
              "      padding: 0 0 0 0;\n",
              "      width: 32px;\n",
              "    }\n",
              "\n",
              "    .colab-df-convert:hover {\n",
              "      background-color: #E2EBFA;\n",
              "      box-shadow: 0px 1px 2px rgba(60, 64, 67, 0.3), 0px 1px 3px 1px rgba(60, 64, 67, 0.15);\n",
              "      fill: #174EA6;\n",
              "    }\n",
              "\n",
              "    [theme=dark] .colab-df-convert {\n",
              "      background-color: #3B4455;\n",
              "      fill: #D2E3FC;\n",
              "    }\n",
              "\n",
              "    [theme=dark] .colab-df-convert:hover {\n",
              "      background-color: #434B5C;\n",
              "      box-shadow: 0px 1px 3px 1px rgba(0, 0, 0, 0.15);\n",
              "      filter: drop-shadow(0px 1px 2px rgba(0, 0, 0, 0.3));\n",
              "      fill: #FFFFFF;\n",
              "    }\n",
              "  </style>\n",
              "\n",
              "      <script>\n",
              "        const buttonEl =\n",
              "          document.querySelector('#df-2fde3567-ceea-433b-a1fd-d89d034bbc2b button.colab-df-convert');\n",
              "        buttonEl.style.display =\n",
              "          google.colab.kernel.accessAllowed ? 'block' : 'none';\n",
              "\n",
              "        async function convertToInteractive(key) {\n",
              "          const element = document.querySelector('#df-2fde3567-ceea-433b-a1fd-d89d034bbc2b');\n",
              "          const dataTable =\n",
              "            await google.colab.kernel.invokeFunction('convertToInteractive',\n",
              "                                                     [key], {});\n",
              "          if (!dataTable) return;\n",
              "\n",
              "          const docLinkHtml = 'Like what you see? Visit the ' +\n",
              "            '<a target=\"_blank\" href=https://colab.research.google.com/notebooks/data_table.ipynb>data table notebook</a>'\n",
              "            + ' to learn more about interactive tables.';\n",
              "          element.innerHTML = '';\n",
              "          dataTable['output_type'] = 'display_data';\n",
              "          await google.colab.output.renderOutput(dataTable, element);\n",
              "          const docLink = document.createElement('div');\n",
              "          docLink.innerHTML = docLinkHtml;\n",
              "          element.appendChild(docLink);\n",
              "        }\n",
              "      </script>\n",
              "    </div>\n",
              "  </div>\n",
              "  "
            ]
          },
          "metadata": {},
          "execution_count": 151
        }
      ]
    },
    {
      "cell_type": "code",
      "source": [
        "from google.colab import files\n",
        "new_reviews.to_csv('new_reviews.csv', encoding = 'utf-8-sig') \n",
        "files.download('new_reviews.csv')"
      ],
      "metadata": {
        "colab": {
          "base_uri": "https://localhost:8080/",
          "height": 17
        },
        "id": "bTv3dT8m5UPp",
        "outputId": "390609bc-0835-4cc6-99f3-10e8651495e0"
      },
      "execution_count": 152,
      "outputs": [
        {
          "output_type": "display_data",
          "data": {
            "text/plain": [
              "<IPython.core.display.Javascript object>"
            ],
            "application/javascript": [
              "\n",
              "    async function download(id, filename, size) {\n",
              "      if (!google.colab.kernel.accessAllowed) {\n",
              "        return;\n",
              "      }\n",
              "      const div = document.createElement('div');\n",
              "      const label = document.createElement('label');\n",
              "      label.textContent = `Downloading \"${filename}\": `;\n",
              "      div.appendChild(label);\n",
              "      const progress = document.createElement('progress');\n",
              "      progress.max = size;\n",
              "      div.appendChild(progress);\n",
              "      document.body.appendChild(div);\n",
              "\n",
              "      const buffers = [];\n",
              "      let downloaded = 0;\n",
              "\n",
              "      const channel = await google.colab.kernel.comms.open(id);\n",
              "      // Send a message to notify the kernel that we're ready.\n",
              "      channel.send({})\n",
              "\n",
              "      for await (const message of channel.messages) {\n",
              "        // Send a message to notify the kernel that we're ready.\n",
              "        channel.send({})\n",
              "        if (message.buffers) {\n",
              "          for (const buffer of message.buffers) {\n",
              "            buffers.push(buffer);\n",
              "            downloaded += buffer.byteLength;\n",
              "            progress.value = downloaded;\n",
              "          }\n",
              "        }\n",
              "      }\n",
              "      const blob = new Blob(buffers, {type: 'application/binary'});\n",
              "      const a = document.createElement('a');\n",
              "      a.href = window.URL.createObjectURL(blob);\n",
              "      a.download = filename;\n",
              "      div.appendChild(a);\n",
              "      a.click();\n",
              "      div.remove();\n",
              "    }\n",
              "  "
            ]
          },
          "metadata": {}
        },
        {
          "output_type": "display_data",
          "data": {
            "text/plain": [
              "<IPython.core.display.Javascript object>"
            ],
            "application/javascript": [
              "download(\"download_e99bfab0-0352-4752-9cae-51332b397353\", \"new_reviews.csv\", 14761704)"
            ]
          },
          "metadata": {}
        }
      ]
    },
    {
      "cell_type": "code",
      "source": [],
      "metadata": {
        "id": "gcnAwnuXHJud"
      },
      "execution_count": null,
      "outputs": []
    }
  ],
  "metadata": {
    "colab": {
      "provenance": []
    },
    "kernelspec": {
      "display_name": "Python 3",
      "name": "python3"
    },
    "language_info": {
      "name": "python"
    }
  },
  "nbformat": 4,
  "nbformat_minor": 0
}